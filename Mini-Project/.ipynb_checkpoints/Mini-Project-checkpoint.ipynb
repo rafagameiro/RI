{
 "cells": [
  {
   "cell_type": "markdown",
   "metadata": {},
   "source": [
    "# Mini-Project: A Simple Search Engine from Scratch\n",
    "In this mini-project you will study the fundaments of IR.\n",
    "\n",
    "The mini-project is divided as follow:\n",
    "\n",
    "- **Week 1**: Study the provided notebook. Using the VSM retrieval model, run experiments *(section 4)* with the provided collection. Compute the metrics MAP, P10 and precision-recall curves.\n",
    "\n",
    "- **Week 2**: Implement the LMD and LMJM retrieval models and repeat the experiments with the new models. Compare it to the previous retrieval models.\n",
    "\n",
    "- **Week 3**: Implement the RM3 retrieval model and repeat the experiments with the new models. Compare it to the previous retrieval models.\n",
    "\n",
    "- **Week 4**: Implement the BM25 retrieval model and repeat the experiments with the new models. Compare it to the previous retrieval models.\n",
    "\n",
    "**Submission date: 15 October**\n",
    "\n",
    "## 1. Vector Space Model\n",
    "\n",
    "In the vector space model, documents are represented as a vector $d_j=(w_{d_j,1},w_{d_j,2}, ..., w_{d_j,n})$ of $n$ word frequencies -- most of the words are equal to 0. Queries are also represented as a vector of words $q_j=(w_{q_j,1},w_{q_j,2}, ..., w_{q_j,n})$. In the vector space model, each document word is weighted by their *tf-idf*\n",
    "\n",
    "$${tf-idf} = tf*\\frac{|D|}{log (df(w_a))}$$\n",
    "\n",
    "The vector space model is based on the cosine similarity, which measures the angle between the two vectors in the 1-unit sphere:\n",
    "\n",
    "$$cos(q,d) = \\frac{\\sum_t q_t\\cdot d_t}{\\sqrt{\\sum_t q^2_t}\\cdot \\sqrt{\\sum_t d^2_t }}$$\n",
    "\n",
    "\n",
    "Below you can read the corresponding matricial implementation for multiple documents.\n",
    "\n",
    "### Parser\n",
    "Using the CountVectorizer class of Scikit-Learn, try the different parser options by generating unigrams and bigrams with different stop words.\n"
   ]
  },
  {
   "cell_type": "code",
   "execution_count": 2,
   "metadata": {},
   "outputs": [],
   "source": [
    "import pandas as pd\n",
    "import numpy as np\n",
    "from sklearn.feature_extraction.text import CountVectorizer #faz a separação de um texto em palavras\n",
    "\n",
    "vectorizer = CountVectorizer()\n",
    "bigram_vectorizer = CountVectorizer(ngram_range=(1, 2), #max number of words a vector entry can have\n",
    "                                    token_pattern=r'\\b\\w+\\b', #regExp that select one word or infinite words (w+)\n",
    "                                    min_df=1, #min frequency, if it is int only if the word appears int times it will be stored\n",
    "                                    stop_words = {'the', 'is'} #words that are irrelevant to the search\n",
    "                                   )\n",
    "\n",
    "corpus = ['This is the first document.',\n",
    "'This is the second second document.',\n",
    "'And the third one.',\n",
    "'Is this the first document?', ]"
   ]
  },
  {
   "cell_type": "code",
   "execution_count": 3,
   "metadata": {},
   "outputs": [
    {
     "data": {
      "text/plain": [
       "['this', 'is', 'text', 'document', 'to', 'analyze', 'the', 'analyser']"
      ]
     },
     "execution_count": 3,
     "metadata": {},
     "output_type": "execute_result"
    }
   ],
   "source": [
    "uni_analyze = vectorizer.build_analyzer()\n",
    "uni_analyze(\"This is a text document to analyze the analyser.\")"
   ]
  },
  {
   "cell_type": "code",
   "execution_count": 4,
   "metadata": {},
   "outputs": [
    {
     "name": "stdout",
     "output_type": "stream",
     "text": [
      "['and', 'document', 'first', 'is', 'one', 'second', 'the', 'third', 'this']\n",
      "\n",
      "[[0 1 1 1 0 0 1 0 1]\n",
      " [0 1 0 1 0 2 1 0 1]\n",
      " [1 0 0 0 1 0 1 1 0]\n",
      " [0 1 1 1 0 0 1 0 1]]\n"
     ]
    }
   ],
   "source": [
    "tf_uni = vectorizer.fit_transform(corpus).toarray()\n",
    "print(vectorizer.get_feature_names())\n",
    "print()\n",
    "print(tf_uni)"
   ]
  },
  {
   "cell_type": "code",
   "execution_count": 60,
   "metadata": {},
   "outputs": [
    {
     "data": {
      "text/plain": [
       "['this',\n",
       " 'a',\n",
       " 'text',\n",
       " 'document',\n",
       " 'to',\n",
       " 'analyze',\n",
       " 'this a',\n",
       " 'a text',\n",
       " 'text document',\n",
       " 'document to',\n",
       " 'to analyze']"
      ]
     },
     "execution_count": 60,
     "metadata": {},
     "output_type": "execute_result"
    }
   ],
   "source": [
    "bi_analyze = bigram_vectorizer.build_analyzer()\n",
    "bi_analyze(\"This is a text document to analyze.\") "
   ]
  },
  {
   "cell_type": "code",
   "execution_count": 61,
   "metadata": {},
   "outputs": [
    {
     "name": "stdout",
     "output_type": "stream",
     "text": [
      "['and', 'and third', 'document', 'first', 'first document', 'one', 'second', 'second document', 'second second', 'third', 'third one', 'this', 'this first', 'this second']\n",
      "\n",
      "[[0 0 1 1 1 0 0 0 0 0 0 1 1 0]\n",
      " [0 0 1 0 0 0 2 1 1 0 0 1 0 1]\n",
      " [1 1 0 0 0 1 0 0 0 1 1 0 0 0]\n",
      " [0 0 1 1 1 0 0 0 0 0 0 1 1 0]]\n"
     ]
    }
   ],
   "source": [
    "tf_bi = bigram_vectorizer.fit_transform(corpus).toarray()\n",
    "print(bigram_vectorizer.get_feature_names())\n",
    "print()\n",
    "print(tf_bi)"
   ]
  },
  {
   "cell_type": "code",
   "execution_count": 62,
   "metadata": {},
   "outputs": [
    {
     "name": "stdout",
     "output_type": "stream",
     "text": [
      "2\n"
     ]
    }
   ],
   "source": [
    "print(bigram_vectorizer.vocabulary_.get('document')) # returns the index of the word in the array"
   ]
  },
  {
   "cell_type": "markdown",
   "metadata": {},
   "source": [
    "### TF IDF and the cosine similarity"
   ]
  },
  {
   "cell_type": "code",
   "execution_count": 63,
   "metadata": {},
   "outputs": [
    {
     "name": "stdout",
     "output_type": "stream",
     "text": [
      "\n",
      "tf:\n",
      " [[0 1 1 1 0 0 1 0 1]\n",
      " [0 1 0 1 0 2 1 0 1]\n",
      " [1 0 0 0 1 0 1 1 0]\n",
      " [0 1 1 1 0 0 1 0 1]]\n",
      "\n",
      "idf:\n",
      " [1.38629436 0.28768207 0.69314718 0.28768207 1.38629436 1.38629436\n",
      " 0.         1.38629436 0.28768207]\n",
      "\n",
      "tfidf:\n",
      " [[0.         0.28768207 0.69314718 0.28768207 0.         0.\n",
      "  0.         0.         0.28768207]\n",
      " [0.         0.28768207 0.         0.28768207 0.         2.77258872\n",
      "  0.         0.         0.28768207]\n",
      " [1.38629436 0.         0.         0.         1.38629436 0.\n",
      "  0.         1.38629436 0.        ]\n",
      " [0.         0.28768207 0.69314718 0.28768207 0.         0.\n",
      "  0.         0.         0.28768207]]\n",
      "\n",
      "docnorms:\n",
      " [0.85366032 2.81700748 2.40113227 0.85366032]\n"
     ]
    }
   ],
   "source": [
    "termCollFreq = np.sum(tf_uni != 0, axis = 0) #axis = 0 -> eixo dos x\n",
    "docLen = np.sum(tf_uni, axis = 1) #axis = 1 -> eixo dos y\n",
    "\n",
    "idf = np.log(np.size(corpus)/termCollFreq)\n",
    "idf_rows = np.dot(np.ones((np.size(corpus),1)), #creates an identity matrix given the shape and type\n",
    "                  idf.reshape(1,np.size(idf)) #normalize the array\n",
    "                 )\n",
    "tfidf = tf_uni*idf_rows\n",
    "\n",
    "docNorms = np.sqrt(np.sum(np.power(tfidf,2), axis = 1)) #primeiro sqrt\n",
    "        \n",
    "print(\"\\ntf:\\n\", tf_uni)\n",
    "print(\"\\nidf:\\n\", idf)\n",
    "print(\"\\ntfidf:\\n\", tfidf)\n",
    "print(\"\\ndocnorms:\\n\", docNorms)"
   ]
  },
  {
   "cell_type": "code",
   "execution_count": 64,
   "metadata": {},
   "outputs": [
    {
     "data": {
      "text/plain": [
       "array([[1., 1., 1., 1.],\n",
       "       [1., 1., 1., 1.],\n",
       "       [1., 1., 1., 1.],\n",
       "       [1., 1., 1., 1.]])"
      ]
     },
     "execution_count": 64,
     "metadata": {},
     "output_type": "execute_result"
    }
   ],
   "source": [
    "np.ones((np.size(corpus),4))"
   ]
  },
  {
   "cell_type": "code",
   "execution_count": 72,
   "metadata": {},
   "outputs": [
    {
     "name": "stdout",
     "output_type": "stream",
     "text": [
      "[[0.3369983  0.10212329 0.         0.3369983 ]]\n"
     ]
    }
   ],
   "source": [
    "query = 'document'\n",
    "query_vector = vectorizer.transform([query]).toarray()\n",
    "queryNorm = np.sqrt(np.sum(np.power(query_vector, 2), axis = 1)) #segundo sqrt\n",
    "\n",
    "doc_scores = np.dot(query_vector, tfidf.T)/(docNorms*queryNorm) #formula acima\n",
    "\n",
    "print(doc_scores)"
   ]
  },
  {
   "cell_type": "markdown",
   "metadata": {},
   "source": [
    "### Inverted Index\n",
    "The matricial implementation is not scalable because it computes the similarity for all documents in the collection. However, one should only compute the similarity for the documents containing the query words. This is where the inverted index comes to our rescue.\n",
    "\n",
    "Read the inverted index implementation presented next. Describe in your own words how the cosine similarity should be implemented with the inverted index:\n"
   ]
  },
  {
   "cell_type": "code",
   "execution_count": 24,
   "metadata": {},
   "outputs": [
    {
     "name": "stdout",
     "output_type": "stream",
     "text": [
      "['and', 'document', 'first', 'is', 'one', 'second', 'the', 'third', 'this']\n",
      "==== Creating the posting list for token \" and \"\n",
      "[(1, 2)]\n",
      "==== Creating the posting list for token \" document \"\n",
      "[(1, 0), (1, 1), (1, 3)]\n",
      "==== Creating the posting list for token \" first \"\n",
      "[(1, 0), (1, 3)]\n",
      "==== Creating the posting list for token \" is \"\n",
      "[(1, 0), (1, 1), (1, 3)]\n",
      "==== Creating the posting list for token \" one \"\n",
      "[(1, 2)]\n",
      "==== Creating the posting list for token \" second \"\n",
      "[(2, 1)]\n",
      "==== Creating the posting list for token \" the \"\n",
      "[(1, 0), (1, 1), (1, 2), (1, 3)]\n",
      "==== Creating the posting list for token \" third \"\n",
      "[(1, 2)]\n",
      "==== Creating the posting list for token \" this \"\n",
      "[(1, 0), (1, 1), (1, 3)]\n"
     ]
    }
   ],
   "source": [
    "features = vectorizer.get_feature_names()\n",
    "\n",
    "print(features)\n",
    "\n",
    "i = 0\n",
    "inverted_index = dict()\n",
    "for token in features:\n",
    "    print(\"==== Creating the posting list for token \\\"\", token, \"\\\"\")\n",
    "    #tf_uni[:,i] -> access column i \n",
    "    \n",
    "    docs_with_token = np.where(tf_uni[:,i] != 0) #retrieves array with index where value is 'true'\n",
    "    len = np.size(docs_with_token,1)\n",
    "    \n",
    "    #creates an array with an pair (value of position (docs_with_token, i), docs_with_token)\n",
    "    postings_matrix = np.concatenate([tf_uni[docs_with_token,i], docs_with_token])\n",
    "    \n",
    "    #postings_matrix.T -> transpose the matrix\n",
    "    #creates a list of tuples with the elements of the transposed matrix 'postings_matrix'\n",
    "    postings_list = list(map(tuple, postings_matrix.T))\n",
    "    inverted_index[token] = postings_list\n",
    "\n",
    "    print(postings_list)\n",
    "    i = i + 1"
   ]
  },
  {
   "cell_type": "markdown",
   "metadata": {},
   "source": [
    "### Evaluation\n",
    "Using the Vector Space Model, run the experiments of section 4.\n",
    "\n",
    "We advice you to use an external Python IDE for editing more complex implementations. **The Notebook should be used as a notebook, not as an IDE**. Your implementations should be organized on external classes as below:"
   ]
  },
  {
   "cell_type": "code",
   "execution_count": 10,
   "metadata": {},
   "outputs": [
    {
     "data": {
      "text/plain": [
       "array([[0.3369983 , 0.19528704, 0.        , 0.3369983 ]])"
      ]
     },
     "execution_count": 10,
     "metadata": {},
     "output_type": "execute_result"
    }
   ],
   "source": [
    "import RetrievalModelsMatrix as b\n",
    "\n",
    "aa = b.RetrievalModelsMatrix(tf_uni, vectorizer)\n",
    "\n",
    "aa.score_vsm('document')"
   ]
  },
  {
   "cell_type": "markdown",
   "metadata": {},
   "source": [
    "## 2. Retrieval Models\n",
    "\n",
    "In this section you will implement three of the most popular retrieval model. After finishing each retrieval model implementation, run the experiments of section 4 with the new model.\n",
    "\n",
    "### Language Model with Jelineck-Mercer Smoothing (20%)\n",
    "The family of Language Models for retrieval build on the density distribution of the terms over each document and the density distribution of terms over the collection of documents.\n",
    "\n",
    "There several ways of avoiding the zero probabilities problem with term smoothing.  The Jelineck-Mercer smoothing model uses a mixture of probabilities between the document model $M_d$ and the corpus model $M_c$:\n",
    "\n",
    "$$p(q|d,C)= \\lambda \\cdot p(q|M_d) + (1-\\lambda)\\cdot p(q|M_c)$$\n",
    "\n",
    "Implement the LMJM retrieval model using the matricial definitions:"
   ]
  },
  {
   "cell_type": "code",
   "execution_count": 11,
   "metadata": {},
   "outputs": [
    {
     "name": "stdout",
     "output_type": "stream",
     "text": [
      "[[0.3369983  0.10212329 0.         0.3369983 ]]\n"
     ]
    }
   ],
   "source": [
    "query = \"document\"\n",
    "\n",
    "# TO DO: LMJM model\n",
    "\n",
    "print(doc_scores)"
   ]
  },
  {
   "cell_type": "markdown",
   "metadata": {},
   "source": [
    "Implement the LMJM retrieval model using the inverted-index data structures:"
   ]
  },
  {
   "cell_type": "code",
   "execution_count": 12,
   "metadata": {},
   "outputs": [
    {
     "name": "stdout",
     "output_type": "stream",
     "text": [
      "[[0.3369983  0.10212329 0.         0.3369983 ]]\n"
     ]
    }
   ],
   "source": [
    "query = \"document\"\n",
    "\n",
    "# TO DO: LMJM model\n",
    "\n",
    "print(doc_scores)"
   ]
  },
  {
   "cell_type": "markdown",
   "metadata": {},
   "source": [
    "### Language Model with Dirichlet Smoothing (20%)\n",
    "Another way of avoiding the zero probabilities problem is with the Dirichlet smoothing model that uses a mixture of frequencies between the term document frequencies $f_{t,c}$ and the term corpus frequency $\\mu \\cdot M_c(t)$:\n",
    "\n",
    "$$p(t|M_d, M_c)= \\frac{f_{t,d}+\\mu \\cdot M_c(t)}{|d| + \\mu}$$\n",
    "\n",
    "Implement the LMD retrieval model using the matricial definitions:\n"
   ]
  },
  {
   "cell_type": "code",
   "execution_count": 13,
   "metadata": {},
   "outputs": [
    {
     "name": "stdout",
     "output_type": "stream",
     "text": [
      "[[0.3369983  0.10212329 0.         0.3369983 ]]\n"
     ]
    }
   ],
   "source": [
    "query = \"document\"\n",
    "\n",
    "# TO DO: LMD model\n",
    "\n",
    "print(doc_scores)"
   ]
  },
  {
   "cell_type": "markdown",
   "metadata": {},
   "source": [
    "Implement the LMD retrieval model using the inverted-index data structures:"
   ]
  },
  {
   "cell_type": "code",
   "execution_count": 14,
   "metadata": {},
   "outputs": [
    {
     "name": "stdout",
     "output_type": "stream",
     "text": [
      "[[0.3369983  0.10212329 0.         0.3369983 ]]\n"
     ]
    }
   ],
   "source": [
    "query = \"document\"\n",
    "\n",
    "# TO DO: LMD model\n",
    "\n",
    "print(doc_scores)"
   ]
  },
  {
   "cell_type": "markdown",
   "metadata": {},
   "source": [
    "### BM 25 (20%)\n",
    "\n",
    "The BM25 is model is an evolution of the tf-idf weighting based on a two Poisson distribution per term. It is obviously impossible to estimate each term distribution -- the approximation to the two Poisson distribution is given by the expression:\n",
    "\n",
    "$$RSV = \\sum q_t \\cdot \\frac{f_{t,d}(k_1 + 1)}{k_1 ((1-b) + b(\\frac{l_d}{l_avg})) + f_{t,d} }\\cdot IDF_t$$\n",
    "\n",
    "Implement the BM5 retrieval model using the matricial definitions:"
   ]
  },
  {
   "cell_type": "code",
   "execution_count": 15,
   "metadata": {},
   "outputs": [
    {
     "name": "stdout",
     "output_type": "stream",
     "text": [
      "[[0.3369983  0.10212329 0.         0.3369983 ]]\n"
     ]
    }
   ],
   "source": [
    "query = \"document\"\n",
    "\n",
    "# TO DO: BM25 model\n",
    "\n",
    "print(doc_scores)"
   ]
  },
  {
   "cell_type": "markdown",
   "metadata": {},
   "source": [
    "Implement the BM25 retrieval model using the inverted-index data structures:"
   ]
  },
  {
   "cell_type": "code",
   "execution_count": 16,
   "metadata": {},
   "outputs": [
    {
     "name": "stdout",
     "output_type": "stream",
     "text": [
      "[[0.3369983  0.10212329 0.         0.3369983 ]]\n"
     ]
    }
   ],
   "source": [
    "query = \"document\"\n",
    "\n",
    "# TO DO: BM25 model\n",
    "\n",
    "print(doc_scores)"
   ]
  },
  {
   "cell_type": "markdown",
   "metadata": {},
   "source": [
    "### Evaluation\n",
    "Using the implemented Retrieval Models, run the experiments of section 4.\n"
   ]
  },
  {
   "cell_type": "markdown",
   "metadata": {},
   "source": [
    "## 3. Pseudo-Relevance Feedback (RM3) (20%)\n",
    "\n",
    "Using the RM3 Model, run the experiments of section 4.\n",
    "\n",
    "Implement the RM3 retrieval model using the matricial definitions:"
   ]
  },
  {
   "cell_type": "code",
   "execution_count": 17,
   "metadata": {},
   "outputs": [
    {
     "name": "stdout",
     "output_type": "stream",
     "text": [
      "[[0.3369983  0.10212329 0.         0.3369983 ]]\n"
     ]
    }
   ],
   "source": [
    "query = \"document\"\n",
    "\n",
    "# TO DO: RM3 model\n",
    "\n",
    "print(doc_scores)"
   ]
  },
  {
   "cell_type": "markdown",
   "metadata": {},
   "source": [
    "Implement the RM3 retrieval model using the inverted-index data structures:"
   ]
  },
  {
   "cell_type": "code",
   "execution_count": 18,
   "metadata": {},
   "outputs": [
    {
     "name": "stdout",
     "output_type": "stream",
     "text": [
      "[[0.3369983  0.10212329 0.         0.3369983 ]]\n"
     ]
    }
   ],
   "source": [
    "query = \"document\"\n",
    "\n",
    "# TO DO: RM3 model\n",
    "\n",
    "print(doc_scores)"
   ]
  },
  {
   "cell_type": "markdown",
   "metadata": {},
   "source": [
    "### Evaluation\n",
    "Using the implemented RM3 model, run the experiments of section 4.\n"
   ]
  },
  {
   "cell_type": "markdown",
   "metadata": {},
   "source": [
    "## 4. Experiments and Results (20%)\n",
    "The goal of this section is to compare experimentally the different retrieval models. In this section you must:\n",
    "- Load the Cranfield documents.\n",
    "- Run the implemented retrieval models\n",
    "- Plot the precision-recall curves.\n",
    "- Compute MAP."
   ]
  },
  {
   "cell_type": "code",
   "execution_count": 42,
   "metadata": {},
   "outputs": [
    {
     "name": "stdout",
     "output_type": "stream",
     "text": [
      "0    what similarity laws must be obeyed when const...\n",
      "Name: query, dtype: object\n",
      "\n",
      "1    what are the structural and aeroelastic proble...\n",
      "Name: query, dtype: object\n",
      "\n",
      "2    what problems of heat conduction in composite ...\n",
      "Name: query, dtype: object\n",
      "\n",
      "3    can a criterion be developed to show empirical...\n",
      "Name: query, dtype: object\n",
      "\n",
      "4    what chemical kinetic system is applicable to ...\n",
      "Name: query, dtype: object\n",
      "\n",
      "5    what theoretical and experimental guides do we...\n",
      "Name: query, dtype: object\n",
      "\n",
      "6    is it possible to relate the available pressur...\n",
      "Name: query, dtype: object\n",
      "\n",
      "7    what methods -dash exact or approximate -dash ...\n",
      "Name: query, dtype: object\n",
      "\n",
      "8    papers on internal /slip flow/ heat transfer s...\n",
      "Name: query, dtype: object\n",
      "\n",
      "9    are real-gas transport properties for air avai...\n",
      "Name: query, dtype: object\n",
      "\n",
      "10    is it possible to find an analytical,  similar...\n",
      "Name: query, dtype: object\n",
      "\n",
      "11    how can the aerodynamic performance of channel...\n",
      "Name: query, dtype: object\n",
      "\n",
      "12    what is the basic mechanism of the transonic a...\n",
      "Name: query, dtype: object\n",
      "\n",
      "13    papers on shock-sound wave interaction . \n",
      "Name: query, dtype: object\n",
      "\n",
      "14    material properties of photoelastic materials . \n",
      "Name: query, dtype: object\n",
      "\n",
      "15    can the transverse potential flow about a body...\n",
      "Name: query, dtype: object\n",
      "\n",
      "16    can the three-dimensional problem of a transve...\n",
      "Name: query, dtype: object\n",
      "\n",
      "17    are experimental pressure distributions on bod...\n",
      "Name: query, dtype: object\n",
      "\n",
      "18    does there exist a good basic treatment of the...\n",
      "Name: query, dtype: object\n",
      "\n",
      "19    has anyone formally determined the influence o...\n",
      "Name: query, dtype: object\n",
      "\n",
      "20    why does the compressibility transformation fa...\n",
      "Name: query, dtype: object\n",
      "\n",
      "21    did anyone else discover that the turbulent sk...\n",
      "Name: query, dtype: object\n",
      "\n",
      "22    what progress has been made in research on uns...\n",
      "Name: query, dtype: object\n",
      "\n",
      "23    what are the factors which influence the time ...\n",
      "Name: query, dtype: object\n",
      "\n",
      "24    does a practical flow follow the theoretical c...\n",
      "Name: query, dtype: object\n",
      "\n",
      "25    what is a single approximate formula for the d...\n",
      "Name: query, dtype: object\n",
      "\n",
      "26    how is the design of ring or part ring wings b...\n",
      "Name: query, dtype: object\n",
      "\n",
      "27    what application has the linear theory design ...\n",
      "Name: query, dtype: object\n",
      "\n",
      "28    what is the effect of cross sectional shape on...\n",
      "Name: query, dtype: object\n",
      "\n",
      "29    papers on flow visualization on slender conica...\n",
      "Name: query, dtype: object\n",
      "\n",
      "30    what size of end plate can be safely used to s...\n",
      "Name: query, dtype: object\n",
      "\n",
      "31    to find an approximate correction for thicknes...\n",
      "Name: query, dtype: object\n",
      "\n",
      "32    how do interference-free longitudinal stabilit...\n",
      "Name: query, dtype: object\n",
      "\n",
      "33    have wind tunnel interference effects been inv...\n",
      "Name: query, dtype: object\n",
      "\n",
      "34    are there any papers dealing with acoustic wav...\n",
      "Name: query, dtype: object\n",
      "\n",
      "35    has anyone investigated relaxation effects on ...\n",
      "Name: query, dtype: object\n",
      "\n",
      "36    are there any theoretical methods for predicti...\n",
      "Name: query, dtype: object\n",
      "\n",
      "37    does transition in the hypersonic wake depend ...\n",
      "Name: query, dtype: object\n",
      "\n",
      "38    how can one detect transition phenomena in bou...\n",
      "Name: query, dtype: object\n",
      "\n",
      "39    how can one detect transition phenomena in hyp...\n",
      "Name: query, dtype: object\n",
      "\n",
      "40    has anyone investigated and developed a simple...\n",
      "Name: query, dtype: object\n",
      "\n",
      "41    what is a criterion that the transonic flow ar...\n",
      "Name: query, dtype: object\n",
      "\n",
      "42    can the transonic flow around an arbitrary smo...\n",
      "Name: query, dtype: object\n",
      "\n",
      "43    what are the details of the rigorous kinetic t...\n",
      "Name: query, dtype: object\n",
      "\n",
      "44    has anyone investigated the effect of surface ...\n",
      "Name: query, dtype: object\n",
      "\n",
      "45    what is the combined effect of surface heat an...\n",
      "Name: query, dtype: object\n",
      "\n",
      "46    what are the existing solutions for hypersonic...\n",
      "Name: query, dtype: object\n",
      "\n",
      "47    what controls leading-edge attachment at trans...\n",
      "Name: query, dtype: object\n",
      "\n",
      "48    can the three-point boundary-value problem for...\n",
      "Name: query, dtype: object\n",
      "\n",
      "49    what are the effects of small amounts of gas r...\n",
      "Name: query, dtype: object\n",
      "\n",
      "50    what is the available information pertaining t...\n",
      "Name: query, dtype: object\n",
      "\n",
      "51    what is the available information pertaining t...\n",
      "Name: query, dtype: object\n",
      "\n",
      "52    what investigations have been made of the flow...\n",
      "Name: query, dtype: object\n",
      "\n",
      "53    how is the heat transfer downstream of the mas...\n",
      "Name: query, dtype: object\n",
      "\n",
      "54    to what extent can the available information f...\n",
      "Name: query, dtype: object\n",
      "\n",
      "55    to what extent can readily available steady-st...\n",
      "Name: query, dtype: object\n",
      "\n",
      "56    what are the significant steady and non-steady...\n",
      "Name: query, dtype: object\n",
      "\n",
      "57    is it possible to determine rates of forced co...\n",
      "Name: query, dtype: object\n",
      "\n",
      "58    how much is known about boundary layer flows a...\n",
      "Name: query, dtype: object\n",
      "\n",
      "59    is there any simple,  but practical,  method f...\n",
      "Name: query, dtype: object\n",
      "\n",
      "60    does there exist a closed-form expression for ...\n",
      "Name: query, dtype: object\n",
      "\n",
      "61    how far around a cylinder and under what condi...\n",
      "Name: query, dtype: object\n",
      "\n",
      "62    where canfind pressure data on surfaces of swe...\n",
      "Name: query, dtype: object\n",
      "\n",
      "63    can't the static deflection shapes be used in ...\n",
      "Name: query, dtype: object\n",
      "\n",
      "64    does the boundary layer on a flat plate in a s...\n",
      "Name: query, dtype: object\n",
      "\n",
      "65    can the procedure of matching inner and outer ...\n",
      "Name: query, dtype: object\n",
      "\n",
      "66    can series expansions be found for the boundar...\n",
      "Name: query, dtype: object\n",
      "\n",
      "67    what possible techniques are available for com...\n",
      "Name: query, dtype: object\n",
      "\n",
      "68    what is known regarding asymptotic solutions t...\n",
      "Name: query, dtype: object\n",
      "\n",
      "69    previous solutions to the boundary layer simil...\n",
      "Name: query, dtype: object\n",
      "\n",
      "70    experimental results on hypersonic viscous int...\n",
      "Name: query, dtype: object\n",
      "\n",
      "71    what has been done about viscous interactions ...\n",
      "Name: query, dtype: object\n",
      "\n",
      "72    what role does the effect of chemical reaction...\n",
      "Name: query, dtype: object\n",
      "\n",
      "73    how significant is the possible pressure of a ...\n",
      "Name: query, dtype: object\n",
      "\n",
      "74    do the discrepancies among current analyses of...\n",
      "Name: query, dtype: object\n",
      "\n",
      "75    how far can one trust the linear viscosity-tem...\n",
      "Name: query, dtype: object\n",
      "\n",
      "76    how close is the comparison of the shock layer...\n",
      "Name: query, dtype: object\n",
      "\n",
      "77    has anyone explained the kink in the surge lin...\n",
      "Name: query, dtype: object\n",
      "\n",
      "78    have any aerodynamic derivatives been measured...\n",
      "Name: query, dtype: object\n",
      "\n",
      "79    are methods of measuring aerodynamic derivativ...\n",
      "Name: query, dtype: object\n",
      "\n",
      "80    what are wind-tunnel corrections for a two-dim...\n",
      "Name: query, dtype: object\n",
      "\n",
      "81    how do kuchemann's and multhopp's methods for ...\n",
      "Name: query, dtype: object\n",
      "\n",
      "82    what is the present state of the theory of qua...\n",
      "Name: query, dtype: object\n",
      "\n",
      "83    references on the methods available for accura...\n",
      "Name: query, dtype: object\n",
      "\n",
      "84    what parameters can seriously influence natura...\n",
      "Name: query, dtype: object\n",
      "\n",
      "85    can a satisfactory experimental technique be d...\n",
      "Name: query, dtype: object\n",
      "\n",
      "86    what effect has the boundary layer in modifyin...\n",
      "Name: query, dtype: object\n",
      "\n",
      "87    how does a satellite orbit contract under the ...\n",
      "Name: query, dtype: object\n",
      "\n",
      "88    how is the flow at transonic speeds about a de...\n",
      "Name: query, dtype: object\n",
      "\n",
      "89    recent data on shock-induced boundary-layer se...\n",
      "Name: query, dtype: object\n",
      "\n",
      "90    what interference effects are likely at transo...\n",
      "Name: query, dtype: object\n",
      "\n",
      "91    given complete freedom in the design of an air...\n",
      "Name: query, dtype: object\n",
      "\n",
      "92    can methane-air combustion product be used as ...\n",
      "Name: query, dtype: object\n",
      "\n",
      "93    what is the theoretical heat transfer rate at ...\n",
      "Name: query, dtype: object\n",
      "\n",
      "94    what is the theoretical heat transfer distribu...\n",
      "Name: query, dtype: object\n",
      "\n",
      "95    has anyone investigated the unsteady lift dist...\n",
      "Name: query, dtype: object\n",
      "\n",
      "96    what information is available for dynamic resp...\n",
      "Name: query, dtype: object\n",
      "\n",
      "97    will forward or apex located controls be effec...\n",
      "Name: query, dtype: object\n",
      "\n",
      "98    given that an uncontrolled vehicle will tumble...\n",
      "Name: query, dtype: object\n",
      "\n",
      "99    what are the effects of initial imperfections ...\n",
      "Name: query, dtype: object\n",
      "\n",
      "100    why does the incremental theory and the deform...\n",
      "Name: query, dtype: object\n",
      "\n",
      "101    basic dynamic characteristics of structures co...\n",
      "Name: query, dtype: object\n",
      "\n",
      "102    is the information on the buckling of sandwich...\n",
      "Name: query, dtype: object\n",
      "\n",
      "103    can the load deformation characteristics of a ...\n",
      "Name: query, dtype: object\n",
      "\n",
      "104    what is the effect of an internal liquid colum...\n",
      "Name: query, dtype: object\n",
      "\n",
      "105    experimental techniques in shell vibration . \n",
      "Name: query, dtype: object\n",
      "\n",
      "106    in summarizing theoretical and experimental wo...\n",
      "Name: query, dtype: object\n",
      "\n",
      "107    what data is there on the fatigue of structure...\n",
      "Name: query, dtype: object\n",
      "\n",
      "108    panels subjected to aerodynamic heating . \n",
      "Name: query, dtype: object\n",
      "\n",
      "109    can increasing the edge loading of a plate bey...\n",
      "Name: query, dtype: object\n",
      "\n",
      "110    have the effects of an elastic edge restraint ...\n",
      "Name: query, dtype: object\n",
      "\n",
      "111    has the solution of the clamped plate problem,...\n",
      "Name: query, dtype: object\n",
      "\n",
      "112    what data exists on oscillatory aerodynamic fo...\n",
      "Name: query, dtype: object\n",
      "\n",
      "113    it is not likely that the airforces on a wing ...\n",
      "Name: query, dtype: object\n",
      "\n",
      "114    is the problem of similarity for representativ...\n",
      "Name: query, dtype: object\n",
      "\n",
      "115    what is the magnitude and distribution of lift...\n",
      "Name: query, dtype: object\n",
      "\n",
      "116    is there any information on how the addition o...\n",
      "Name: query, dtype: object\n",
      "\n",
      "117    what are the aerodynamic interference effects ...\n",
      "Name: query, dtype: object\n",
      "\n",
      "118    what is the effect of initial axisymmetric dev...\n",
      "Name: query, dtype: object\n",
      "\n",
      "119    are previous analyses of circumferential therm...\n",
      "Name: query, dtype: object\n",
      "\n",
      "120    what papers are there dealing with circumferen...\n",
      "Name: query, dtype: object\n",
      "\n",
      "121    what analytical investigations have been made ...\n",
      "Name: query, dtype: object\n",
      "\n",
      "122    has any work been done on determining the natu...\n",
      "Name: query, dtype: object\n",
      "\n",
      "123    in what areas, other than low density wind tun...\n",
      "Name: query, dtype: object\n",
      "\n",
      "124    NaN\n",
      "Name: query, dtype: object\n",
      "\n",
      "125    jet interference with supersonic flow  -dash e...\n",
      "Name: query, dtype: object\n",
      "\n",
      "126    thrust vector control by fluid injection -dash...\n",
      "Name: query, dtype: object\n",
      "\n",
      "127    is it possible to obtain a reasonably simple a...\n",
      "Name: query, dtype: object\n",
      "\n",
      "128    has anyone programmed a pump design method for...\n",
      "Name: query, dtype: object\n",
      "\n",
      "129    has anyone derived simplified pump design equa...\n",
      "Name: query, dtype: object\n",
      "\n",
      "130    what are the flutter characteristics of the ex...\n",
      "Name: query, dtype: object\n",
      "\n",
      "131    what agreement is found between theoretically ...\n",
      "Name: query, dtype: object\n",
      "\n",
      "132    theoretical studies of creep buckling . \n",
      "Name: query, dtype: object\n",
      "\n",
      "133    experimental studies of creep buckling . \n",
      "Name: query, dtype: object\n",
      "\n",
      "134    is it possible to correlate the results on the...\n",
      "Name: query, dtype: object\n",
      "\n",
      "135    what are the experimental results for the cree...\n",
      "Name: query, dtype: object\n",
      "\n",
      "136    what are the results for the creep buckling of...\n",
      "Name: query, dtype: object\n",
      "\n",
      "137    have any analytical studies been conducted on ...\n",
      "Name: query, dtype: object\n",
      "\n",
      "138    has the effect of initial stresses,  on the fr...\n",
      "Name: query, dtype: object\n",
      "\n",
      "139    has the effect of the change of initial pressu...\n",
      "Name: query, dtype: object\n",
      "\n",
      "140    what are the discontinuity stresses at junctio...\n",
      "Name: query, dtype: object\n",
      "\n",
      "141    what analytical solutions are available for st...\n",
      "Name: query, dtype: object\n",
      "\n",
      "142    what dome contours minimize discontinuity stre...\n",
      "Name: query, dtype: object\n",
      "\n",
      "143    what general solutions for the stresses in pre...\n",
      "Name: query, dtype: object\n",
      "\n",
      "144    can studies of pure membrane cylinders having ...\n",
      "Name: query, dtype: object\n",
      "\n",
      "145    what are the best experimental data and classi...\n",
      "Name: query, dtype: object\n",
      "\n",
      "146    does a membrane theory exist by which the beha...\n",
      "Name: query, dtype: object\n",
      "\n",
      "147    what are the equations which define the stabil...\n",
      "Name: query, dtype: object\n",
      "\n",
      "148    papers on small deflection theory for buckling...\n",
      "Name: query, dtype: object\n",
      "\n",
      "149    has anyone developed an analysis which accurat...\n",
      "Name: query, dtype: object\n",
      "\n",
      "150    what is the magnitude of second-order wing-bod...\n",
      "Name: query, dtype: object\n",
      "\n",
      "151    what is the best theoretical method for calcul...\n",
      "Name: query, dtype: object\n",
      "\n",
      "152    how can the effect of the boundary-layer on wi...\n",
      "Name: query, dtype: object\n",
      "\n",
      "153    how should the navier-stokes difference equati...\n",
      "Name: query, dtype: object\n",
      "\n",
      "154    which  iterative method for solving linear ell...\n",
      "Name: query, dtype: object\n",
      "\n",
      "155    technical report on measurement of ablation du...\n",
      "Name: query, dtype: object\n",
      "\n",
      "156    what qualitative and quantitative material is ...\n",
      "Name: query, dtype: object\n",
      "\n",
      "157    have flow fields been calculated for blunt-nos...\n",
      "Name: query, dtype: object\n",
      "\n",
      "158    what are the available properties of high-temp...\n",
      "Name: query, dtype: object\n",
      "\n",
      "159    what is the magnitude of aerodynamic damping i...\n",
      "Name: query, dtype: object\n",
      "\n",
      "160    compressive circumferential stresses in a tori...\n",
      "Name: query, dtype: object\n",
      "\n",
      "161    is there an integral method to give a single a...\n",
      "Name: query, dtype: object\n",
      "\n",
      "162    what accurate or exact solutions of the lamina...\n",
      "Name: query, dtype: object\n",
      "\n",
      "163    can the hypersonic similarity results be appli...\n",
      "Name: query, dtype: object\n",
      "\n",
      "164    what determines the onset of shock-induced bou...\n",
      "Name: query, dtype: object\n",
      "\n",
      "165    are the stable profiles of a compressible boun...\n",
      "Name: query, dtype: object\n",
      "\n",
      "166    are there experimental results on the stabilit...\n",
      "Name: query, dtype: object\n",
      "\n",
      "167    exact solution methods for calculating the abl...\n",
      "Name: query, dtype: object\n",
      "\n",
      "168    what approximate solutions are known to the di...\n",
      "Name: query, dtype: object\n",
      "\n",
      "169    what approximate solutions are known to the in...\n",
      "Name: query, dtype: object\n",
      "\n",
      "170    why do users of orthodox pitot-static tubes of...\n",
      "Name: query, dtype: object\n",
      "\n",
      "171    has a comparison been made between interferenc...\n",
      "Name: query, dtype: object\n",
      "\n",
      "172    solution of the blasius problem with three-poi...\n",
      "Name: query, dtype: object\n",
      "\n",
      "173    references on lyapunov's method on the stabili...\n",
      "Name: query, dtype: object\n",
      "\n",
      "174    obtain all papers and reports that contain sho...\n",
      "Name: query, dtype: object\n",
      "\n",
      "175    work on flow in channels at low reynolds numbe...\n",
      "Name: query, dtype: object\n",
      "\n",
      "176    some approximate analytical heat conduction so...\n",
      "Name: query, dtype: object\n",
      "\n",
      "177    what mode of stalling can be expected for each...\n"
     ]
    },
    {
     "name": "stdout",
     "output_type": "stream",
     "text": [
      "Name: query, dtype: object\n",
      "\n",
      "178    has a criterion been established for determini...\n",
      "Name: query, dtype: object\n",
      "\n",
      "179    has a theory of quasi-conical flows been devel...\n",
      "Name: query, dtype: object\n",
      "\n",
      "180    how does scale height vary with altitude in an...\n",
      "Name: query, dtype: object\n",
      "\n",
      "181    jet interference with supersonic flows theoret...\n",
      "Name: query, dtype: object\n",
      "\n",
      "182    effects of leading-edge bluntness on the flutt...\n",
      "Name: query, dtype: object\n",
      "\n",
      "183    what factors have been shown to have a primary...\n",
      "Name: query, dtype: object\n",
      "\n",
      "184    work on small-oscillation re-entry motions . \n",
      "Name: query, dtype: object\n",
      "\n",
      "185    experimental studies on panel flutter . \n",
      "Name: query, dtype: object\n",
      "\n",
      "186    how can wing-body,  flow field interference ef...\n",
      "Name: query, dtype: object\n",
      "\n",
      "187    has anyone analytically or experimentally inve...\n",
      "Name: query, dtype: object\n",
      "\n",
      "188    what theoretical and experimental work has bee...\n",
      "Name: query, dtype: object\n",
      "\n",
      "189    is there a design method for calculating therm...\n",
      "Name: query, dtype: object\n",
      "\n",
      "190    will an analysis of panel flutter based on arb...\n",
      "Name: query, dtype: object\n",
      "\n",
      "191    what is the criterion for true panel flutter, ...\n",
      "Name: query, dtype: object\n",
      "\n",
      "192    papers dealing with uniformly loaded sectors . \n",
      "Name: query, dtype: object\n",
      "\n",
      "193    general methods of solving clamped plate probl...\n",
      "Name: query, dtype: object\n",
      "\n",
      "194    how can the analytical solution of the bucklin...\n",
      "Name: query, dtype: object\n",
      "\n",
      "195    in the problem of the buckling strength of uni...\n",
      "Name: query, dtype: object\n",
      "\n",
      "196    the problem of similarity for representative i...\n",
      "Name: query, dtype: object\n",
      "\n",
      "197    how is fatigue damage estimated using the norm...\n",
      "Name: query, dtype: object\n",
      "\n",
      "198    is there any information available on the diff...\n",
      "Name: query, dtype: object\n",
      "\n",
      "199    have non-linear large deflection analyses been...\n",
      "Name: query, dtype: object\n",
      "\n",
      "200    are asymptotic methods sufficiently accurate i...\n",
      "Name: query, dtype: object\n",
      "\n",
      "201    what are the nonequilibrium chemical constitue...\n",
      "Name: query, dtype: object\n",
      "\n",
      "202    how accurate are existing analytical theories ...\n",
      "Name: query, dtype: object\n",
      "\n",
      "203    are simple empirical methods of any use for es...\n",
      "Name: query, dtype: object\n",
      "\n",
      "204    do viscous effects seriously modify pressure d...\n",
      "Name: query, dtype: object\n",
      "\n",
      "205    has anyone investigated theoretically whether ...\n",
      "Name: query, dtype: object\n",
      "\n",
      "206    how do subsonic and transonic flutter data mea...\n",
      "Name: query, dtype: object\n",
      "\n",
      "207    how do large changes in new mass ratio quantit...\n",
      "Name: query, dtype: object\n",
      "\n",
      "208    what is the effect of the shape of the drag po...\n",
      "Name: query, dtype: object\n",
      "\n",
      "209    what are the physical significance and charact...\n",
      "Name: query, dtype: object\n",
      "\n",
      "210    has anyone analytically investigated the stabi...\n",
      "Name: query, dtype: object\n",
      "\n",
      "211    what papers are available on the buckling of e...\n",
      "Name: query, dtype: object\n",
      "\n",
      "212    what effect do thermal stresses have on the co...\n",
      "Name: query, dtype: object\n",
      "\n",
      "213    what is the effect on cylinder buckling of a c...\n",
      "Name: query, dtype: object\n",
      "\n",
      "214    can non-linear shallow shell analysis be reduc...\n",
      "Name: query, dtype: object\n",
      "\n",
      "215    is it possible to predict the shape of a shrou...\n",
      "Name: query, dtype: object\n",
      "\n",
      "216    what investigations have been made of the wave...\n",
      "Name: query, dtype: object\n",
      "\n",
      "217    has anyone investigated the effect of shock ge...\n",
      "Name: query, dtype: object\n",
      "\n",
      "218    what is the heat transfer to a blunt body in t...\n",
      "Name: query, dtype: object\n",
      "\n",
      "219    what are the general effects on flow fields wh...\n",
      "Name: query, dtype: object\n",
      "\n",
      "220    find a calculation procedure applicable to all...\n",
      "Name: query, dtype: object\n",
      "\n",
      "221    papers applicable to this problem (calculation...\n",
      "Name: query, dtype: object\n",
      "\n",
      "222    has anyone investigated the shear buckling of ...\n",
      "Name: query, dtype: object\n",
      "\n",
      "223    papers on shear buckling of unstiffened rectan...\n",
      "Name: query, dtype: object\n",
      "\n",
      "224    in practice, how close to reality are the assu...\n",
      "Name: query, dtype: object\n",
      "\n",
      "225    what design factors can be used to control lif...\n",
      "Name: query, dtype: object\n",
      "\n"
     ]
    }
   ],
   "source": [
    "files_read = pd.read_csv('corpus/cran.all.1400.csv', delimiter = ';')\n",
    "query_read = pd.read_csv('corpus/cran.qry.csv', delimiter = ';')\n",
    "\n",
    "#for loop to go through all documents\n",
    "for id in files_read['docid']:\n",
    "    print(files_read[files_read.docid == id])\n",
    "\n",
    "#for loop to go through all querys\n",
    "for id in query_read['qid']:\n",
    "    print(query_read[query_read.qid == id]['query'])"
   ]
  }
 ],
 "metadata": {
  "kernelspec": {
   "display_name": "Python 3",
   "language": "python",
   "name": "python3"
  },
  "language_info": {
   "codemirror_mode": {
    "name": "ipython",
    "version": 3
   },
   "file_extension": ".py",
   "mimetype": "text/x-python",
   "name": "python",
   "nbconvert_exporter": "python",
   "pygments_lexer": "ipython3",
   "version": "3.7.3"
  }
 },
 "nbformat": 4,
 "nbformat_minor": 2
}
