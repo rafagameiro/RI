{
 "cells": [
  {
   "cell_type": "markdown",
   "metadata": {},
   "source": [
    "# Mini-Project: A Simple Search Engine from Scratch\n",
    "In this mini-project you will study the fundaments of IR.\n",
    "\n",
    "The mini-project is divided as follow:\n",
    "\n",
    "- **Week 1**: Study the provided notebook. Using the VSM retrieval model, run experiments *(section 4)* with the provided collection. Compute the metrics MAP, P10 and precision-recall curves.\n",
    "\n",
    "- **Week 2**: Implement the LMD and LMJM retrieval models and repeat the experiments with the new models. Compare it to the previous retrieval models.\n",
    "\n",
    "- **Week 3**: Implement the RM3 retrieval model and repeat the experiments with the new models. Compare it to the previous retrieval models.\n",
    "\n",
    "- **Week 4**: Implement the BM25 retrieval model and repeat the experiments with the new models. Compare it to the previous retrieval models.\n",
    "\n",
    "**Submission date: 15 October**\n",
    "\n",
    "## 1. Vector Space Model\n",
    "\n",
    "In the vector space model, documents are represented as a vector $d_j=(w_{d_j,1},w_{d_j,2}, ..., w_{d_j,n})$ of $n$ word frequencies -- most of the words are equal to 0. Queries are also represented as a vector of words $q_j=(w_{q_j,1},w_{q_j,2}, ..., w_{q_j,n})$. In the vector space model, each document word is weighted by their *tf-idf*\n",
    "\n",
    "$${tf-idf} = tf*\\frac{|D|}{log (df(w_a))}$$\n",
    "\n",
    "The vector space model is based on the cosine similarity, which measures the angle between the two vectors in the 1-unit sphere:\n",
    "\n",
    "$$cos(q,d) = \\frac{\\sum_t q_t\\cdot d_t}{\\sqrt{\\sum_t q^2_t}\\cdot \\sqrt{\\sum_t d^2_t }}$$\n",
    "\n",
    "\n",
    "Below you can read the corresponding matricial implementation for multiple documents.\n",
    "\n",
    "### Parser\n",
    "Using the CountVectorizer class of Scikit-Learn, try the different parser options by generating unigrams and bigrams with different stop words.\n"
   ]
  },
  {
   "cell_type": "code",
   "execution_count": 2,
   "metadata": {},
   "outputs": [],
   "source": [
    "import pandas as pd\n",
    "import numpy as np\n",
    "from sklearn.feature_extraction.text import CountVectorizer #faz a separação de um texto em palavras\n",
    "\n",
    "vectorizer = CountVectorizer()\n",
    "bigram_vectorizer = CountVectorizer(ngram_range=(1, 2), #max number of words a vector entry can have\n",
    "                                    token_pattern=r'\\b\\w+\\b', #regExp that select one word or infinite words (w+)\n",
    "                                    min_df=1, #min frequency, if it is int only if the word appears int times it will be stored\n",
    "                                    stop_words = {'the', 'is'} #words that are irrelevant to the search\n",
    "                                   )\n",
    "\n",
    "corpus = ['This is the first document.',\n",
    "'This is the second second document.',\n",
    "'And the third one.',\n",
    "'Is this the first document?', ]"
   ]
  },
  {
   "cell_type": "code",
   "execution_count": 2,
   "metadata": {},
   "outputs": [
    {
     "data": {
      "text/plain": [
       "['this', 'is', 'text', 'document', 'to', 'analyze']"
      ]
     },
     "execution_count": 2,
     "metadata": {},
     "output_type": "execute_result"
    }
   ],
   "source": [
    "uni_analyze = vectorizer.build_analyzer()\n",
    "uni_analyze(\"This is a text document to analyze.\")"
   ]
  },
  {
   "cell_type": "code",
   "execution_count": 3,
   "metadata": {},
   "outputs": [
    {
     "name": "stdout",
     "output_type": "stream",
     "text": [
      "['and', 'document', 'first', 'is', 'one', 'second', 'the', 'third', 'this']\n",
      "\n",
      "[[0 1 1 1 0 0 1 0 1]\n",
      " [0 1 0 1 0 2 1 0 1]\n",
      " [1 0 0 0 1 0 1 1 0]\n",
      " [0 1 1 1 0 0 1 0 1]]\n"
     ]
    }
   ],
   "source": [
    "tf_uni = vectorizer.fit_transform(corpus).toarray()\n",
    "print(vectorizer.get_feature_names())\n",
    "print()\n",
    "print(tf_uni)"
   ]
  },
  {
   "cell_type": "code",
   "execution_count": 4,
   "metadata": {},
   "outputs": [
    {
     "data": {
      "text/plain": [
       "['this',\n",
       " 'a',\n",
       " 'text',\n",
       " 'document',\n",
       " 'to',\n",
       " 'analyze',\n",
       " 'this a',\n",
       " 'a text',\n",
       " 'text document',\n",
       " 'document to',\n",
       " 'to analyze']"
      ]
     },
     "execution_count": 4,
     "metadata": {},
     "output_type": "execute_result"
    }
   ],
   "source": [
    "bi_analyze = bigram_vectorizer.build_analyzer()\n",
    "bi_analyze(\"This is a text document to analyze.\") "
   ]
  },
  {
   "cell_type": "code",
   "execution_count": 5,
   "metadata": {},
   "outputs": [
    {
     "name": "stdout",
     "output_type": "stream",
     "text": [
      "['and', 'and third', 'document', 'first', 'first document', 'one', 'second', 'second document', 'second second', 'third', 'third one', 'this', 'this first', 'this second']\n",
      "\n",
      "[[0 0 1 1 1 0 0 0 0 0 0 1 1 0]\n",
      " [0 0 1 0 0 0 2 1 1 0 0 1 0 1]\n",
      " [1 1 0 0 0 1 0 0 0 1 1 0 0 0]\n",
      " [0 0 1 1 1 0 0 0 0 0 0 1 1 0]]\n"
     ]
    }
   ],
   "source": [
    "tf_bi = bigram_vectorizer.fit_transform(corpus).toarray()\n",
    "print(bigram_vectorizer.get_feature_names())\n",
    "print()\n",
    "print(tf_bi)"
   ]
  },
  {
   "cell_type": "code",
   "execution_count": 6,
   "metadata": {},
   "outputs": [
    {
     "name": "stdout",
     "output_type": "stream",
     "text": [
      "2\n"
     ]
    }
   ],
   "source": [
    "print(bigram_vectorizer.vocabulary_.get('document')) # returns the index of the word in the array"
   ]
  },
  {
   "cell_type": "markdown",
   "metadata": {},
   "source": [
    "### TF IDF and the cosine similarity"
   ]
  },
  {
   "cell_type": "code",
   "execution_count": 10,
   "metadata": {},
   "outputs": [
    {
     "name": "stdout",
     "output_type": "stream",
     "text": [
      "\n",
      "tf:\n",
      " [[0 1 1 1 0 0 1 0 1]\n",
      " [0 1 0 1 0 2 1 0 1]\n",
      " [1 0 0 0 1 0 1 1 0]\n",
      " [0 1 1 1 0 0 1 0 1]]\n",
      "\n",
      "idf:\n",
      " [1.38629436 0.28768207 0.69314718 0.28768207 1.38629436 1.38629436\n",
      " 0.         1.38629436 0.28768207]\n",
      "\n",
      "tfidf:\n",
      " [[0.         0.28768207 0.69314718 0.28768207 0.         0.\n",
      "  0.         0.         0.28768207]\n",
      " [0.         0.28768207 0.         0.28768207 0.         2.77258872\n",
      "  0.         0.         0.28768207]\n",
      " [1.38629436 0.         0.         0.         1.38629436 0.\n",
      "  0.         1.38629436 0.        ]\n",
      " [0.         0.28768207 0.69314718 0.28768207 0.         0.\n",
      "  0.         0.         0.28768207]]\n",
      "\n",
      "docnorms:\n",
      " [0.85366032 2.81700748 2.40113227 0.85366032]\n"
     ]
    }
   ],
   "source": [
    "termCollFreq = np.sum(tf_uni != 0, axis = 0) #axis = 0 -> eixo dos x\n",
    "docLen = np.sum(tf_uni, axis = 1) #axis = 1 -> eixo dos y\n",
    "\n",
    "idf = np.log(np.size(corpus)/termCollFreq)\n",
    "idf_rows = np.dot(np.ones((np.size(corpus),1)), #creates an identity matrix given the shape and type\n",
    "                  idf.reshape(1,np.size(idf)) #normalize the array\n",
    "                 )\n",
    "tfidf = tf_uni*idf_rows\n",
    "\n",
    "docNorms = np.sqrt(np.sum(np.power(tfidf,2), axis = 1)) #primeiro sqrt\n",
    "        \n",
    "print(\"\\ntf:\\n\", tf_uni)\n",
    "print(\"\\nidf:\\n\", idf)\n",
    "print(\"\\ntfidf:\\n\", tfidf)\n",
    "print(\"\\ndocnorms:\\n\", docNorms)"
   ]
  },
  {
   "cell_type": "code",
   "execution_count": 12,
   "metadata": {},
   "outputs": [
    {
     "name": "stdout",
     "output_type": "stream",
     "text": [
      "[[0.3369983  0.10212329 0.         0.3369983 ]]\n"
     ]
    }
   ],
   "source": [
    "query = 'document'\n",
    "query_vector = vectorizer.transform([query]).toarray()\n",
    "queryNorm = np.sqrt(np.sum(np.power(query_vector, 2), axis = 1)) #segundo sqrt\n",
    "\n",
    "doc_scores = np.dot(query_vector, tfidf.T)/(docNorms*queryNorm) #formula acima\n",
    "\n",
    "print(doc_scores)"
   ]
  },
  {
   "cell_type": "markdown",
   "metadata": {},
   "source": [
    "### Inverted Index\n",
    "The matricial implementation is not scalable because it computes the similarity for all documents in the collection. However, one should only compute the similarity for the documents containing the query words. This is where the inverted index comes to our rescue.\n",
    "\n",
    "Read the inverted index implementation presented next. Describe in your own words how the cosine similarity should be implemented with the inverted index:\n"
   ]
  },
  {
   "cell_type": "code",
   "execution_count": 13,
   "metadata": {
    "scrolled": false
   },
   "outputs": [
    {
     "name": "stdout",
     "output_type": "stream",
     "text": [
      "==== Creating the posting list for token \" and \"\n",
      "[(1, 2)]\n",
      "==== Creating the posting list for token \" document \"\n",
      "[(1, 0), (1, 1), (1, 3)]\n",
      "==== Creating the posting list for token \" first \"\n",
      "[(1, 0), (1, 3)]\n",
      "==== Creating the posting list for token \" is \"\n",
      "[(1, 0), (1, 1), (1, 3)]\n",
      "==== Creating the posting list for token \" one \"\n",
      "[(1, 2)]\n",
      "==== Creating the posting list for token \" second \"\n",
      "[(2, 1)]\n",
      "==== Creating the posting list for token \" the \"\n",
      "[(1, 0), (1, 1), (1, 2), (1, 3)]\n",
      "==== Creating the posting list for token \" third \"\n",
      "[(1, 2)]\n",
      "==== Creating the posting list for token \" this \"\n",
      "[(1, 0), (1, 1), (1, 3)]\n"
     ]
    }
   ],
   "source": [
    "features = vectorizer.get_feature_names()\n",
    "\n",
    "i = 0\n",
    "inverted_index = dict()\n",
    "for token in features:\n",
    "    print(\"==== Creating the posting list for token \\\"\", token, \"\\\"\")\n",
    "    #tf_uni[:,i] -> access column i \n",
    "    \n",
    "    docs_with_token = np.where(tf_uni[:,i] != 0) #retrieves array with index where value is 'true'\n",
    "    len = np.size(docs_with_token,1)\n",
    "    \n",
    "    #creates an array with an pair (value of position (docs_with_token, i), docs_with_token)\n",
    "    postings_matrix = np.concatenate([tf_uni[docs_with_token,i], docs_with_token])\n",
    "    \n",
    "    #postings_matrix.T -> transpose the matrix\n",
    "    #creates a list of tuples with the elements of the transposed matrix 'postings_matrix'\n",
    "    postings_list = list(map(tuple, postings_matrix.T))\n",
    "    inverted_index[token] = postings_list\n",
    "\n",
    "    print(postings_list)\n",
    "    i = i + 1"
   ]
  },
  {
   "cell_type": "markdown",
   "metadata": {},
   "source": [
    "### Evaluation\n",
    "Using the Vector Space Model, run the experiments of section 4.\n",
    "\n",
    "We advice you to use an external Python IDE for editing more complex implementations. **The Notebook should be used as a notebook, not as an IDE**. Your implementations should be organized on external classes as below:"
   ]
  },
  {
   "cell_type": "code",
   "execution_count": 14,
   "metadata": {},
   "outputs": [
    {
     "data": {
      "text/plain": [
       "array([[0.33695882, 0.10211967, 0.        , 0.33695882]])"
      ]
     },
     "execution_count": 14,
     "metadata": {},
     "output_type": "execute_result"
    }
   ],
   "source": [
    "import RetrievalModelsMatrix as b\n",
    "\n",
    "aa = b.RetrievalModelsMatrix(tf_uni, vectorizer)\n",
    "\n",
    "aa.score_vsm('document')"
   ]
  },
  {
   "cell_type": "markdown",
   "metadata": {},
   "source": [
    "## 2. Retrieval Models\n",
    "\n",
    "In this section you will implement three of the most popular retrieval model. After finishing each retrieval model implementation, run the experiments of section 4 with the new model.\n",
    "\n",
    "### Language Model with Jelineck-Mercer Smoothing (20%)\n",
    "The family of Language Models for retrieval build on the density distribution of the terms over each document and the density distribution of terms over the collection of documents.\n",
    "\n",
    "There several ways of avoiding the zero probabilities problem with term smoothing.  The Jelineck-Mercer smoothing model uses a mixture of probabilities between the document model $M_d$ and the corpus model $M_c$:\n",
    "\n",
    "$$p(q|d,C)= \\lambda \\cdot p(q|M_d) + (1-\\lambda)\\cdot p(q|M_c)$$\n",
    "\n",
    "Implement the LMJM retrieval model using the matricial definitions:"
   ]
  },
  {
   "cell_type": "code",
   "execution_count": 33,
   "metadata": {},
   "outputs": [
    {
     "name": "stdout",
     "output_type": "stream",
     "text": [
      "[[0 1 1 1 0 0 1 0 1]\n",
      " [0 1 0 1 0 2 1 0 1]\n",
      " [1 0 0 0 1 0 1 1 0]\n",
      " [0 1 1 1 0 0 1 0 1]]\n",
      "[1 3 2 3 1 1 4 1 3]\n",
      "[5 6 4 5]\n",
      "ptmd\n",
      " [[0.         0.2        0.2        0.2        0.         0.\n",
      "  0.2        0.         0.2       ]\n",
      " [0.         0.16666667 0.         0.16666667 0.         0.33333333\n",
      "  0.16666667 0.         0.16666667]\n",
      " [0.25       0.         0.         0.         0.25       0.\n",
      "  0.25       0.25       0.        ]\n",
      " [0.         0.2        0.2        0.2        0.         0.\n",
      "  0.2        0.         0.2       ]]\n",
      "ptmc\n",
      " [0.05263158 0.15789474 0.10526316 0.15789474 0.05263158 0.05263158\n",
      " 0.21052632 0.05263158 0.15789474]\n",
      "[0.17894737 0.1622807  0.07894737 0.17894737]\n"
     ]
    }
   ],
   "source": [
    "query = \"document\"\n",
    "lamb = 0.5\n",
    "\n",
    "print(tf_uni)\n",
    "termCollFreq = np.sum(tf_uni != 0, axis = 0) #axis = 0 -> eixo dos x\n",
    "docLen = np.sum(tf_uni, axis = 1) #axis = 1 -> eixo dos y\n",
    "\n",
    "print(termCollFreq)\n",
    "\n",
    "print(docLen)\n",
    "\n",
    "arr = np.dot(np.ones((np.size(termCollFreq),1)), [docLen])\n",
    "\n",
    "\n",
    "ptmd = tf_uni * (1/arr.T) #P(t|Md)\n",
    "\n",
    "print('ptmd\\n', ptmd)\n",
    "\n",
    "ptmc = termCollFreq / sum(termCollFreq) #P(t|Mc)\n",
    "\n",
    "print('ptmc\\n', ptmc)\n",
    "\n",
    "lmjm = lamb * ptmd + (1 - lamb) * ptmc\n",
    "\n",
    "query_vec = vectorizer.transform([query]).toarray()\n",
    "\n",
    "doc_score = np.prod(lmjm ** query_vec, axis = 1)\n",
    "\n",
    "\n",
    "print(doc_score)"
   ]
  },
  {
   "cell_type": "markdown",
   "metadata": {},
   "source": [
    "Implement the LMJM retrieval model using the inverted-index data structures:"
   ]
  },
  {
   "cell_type": "code",
   "execution_count": 12,
   "metadata": {},
   "outputs": [
    {
     "name": "stdout",
     "output_type": "stream",
     "text": [
      "[[0.3369983  0.10212329 0.         0.3369983 ]]\n"
     ]
    }
   ],
   "source": [
    "query = \"document\"\n",
    "\n",
    "# TO DO: LMJM model\n",
    "\n",
    "print(doc_scores)"
   ]
  },
  {
   "cell_type": "markdown",
   "metadata": {},
   "source": [
    "### Language Model with Dirichlet Smoothing (20%)\n",
    "Another way of avoiding the zero probabilities problem is with the Dirichlet smoothing model that uses a mixture of frequencies between the term document frequencies $f_{t,c}$ and the term corpus frequency $\\mu \\cdot M_c(t)$:\n",
    "\n",
    "$$p(t|M_d, M_c)= \\frac{f_{t,d}+\\mu \\cdot M_c(t)}{|d| + \\mu}$$\n",
    "\n",
    "Implement the LMD retrieval model using the matricial definitions:\n"
   ]
  },
  {
   "cell_type": "code",
   "execution_count": 45,
   "metadata": {},
   "outputs": [
    {
     "name": "stdout",
     "output_type": "stream",
     "text": [
      "[0.15989975 0.15839126 0.15182186 0.15989975]\n"
     ]
    }
   ],
   "source": [
    "query = \"document\"\n",
    "\n",
    "new = 100\n",
    "\n",
    "ptmc = termCollFreq / sum(termCollFreq) #P(t|Mc)\n",
    "\n",
    "query_vec = vectorizer.transform([query]).toarray()\n",
    "\n",
    "arr = np.dot(np.ones((np.size(termCollFreq),1)), [docLen])\n",
    "\n",
    "lmd = (tf_uni + new * ptmc) / (arr + new).T\n",
    "\n",
    "doc_scores = np.prod(lmd ** query_vec, axis = 1)\n",
    "\n",
    "print(doc_scores)"
   ]
  },
  {
   "cell_type": "markdown",
   "metadata": {},
   "source": [
    "Implement the LMD retrieval model using the inverted-index data structures:"
   ]
  },
  {
   "cell_type": "code",
   "execution_count": 14,
   "metadata": {},
   "outputs": [
    {
     "name": "stdout",
     "output_type": "stream",
     "text": [
      "[[0.3369983  0.10212329 0.         0.3369983 ]]\n"
     ]
    }
   ],
   "source": [
    "query = \"document\"\n",
    "\n",
    "# TO DO: LMD model\n",
    "\n",
    "print(doc_scores)"
   ]
  },
  {
   "cell_type": "markdown",
   "metadata": {},
   "source": [
    "### BM 25 (20%)\n",
    "\n",
    "The BM25 is model is an evolution of the tf-idf weighting based on a two Poisson distribution per term. It is obviously impossible to estimate each term distribution -- the approximation to the two Poisson distribution is given by the expression:\n",
    "\n",
    "$$RSV = \\sum q_t \\cdot \\frac{f_{t,d}(k_1 + 1)}{k_1 ((1-b) + b(\\frac{l_d}{l_avg})) + f_{t,d} }\\cdot IDF_t$$\n",
    "\n",
    "Implement the BM5 retrieval model using the matricial definitions:"
   ]
  },
  {
   "cell_type": "code",
   "execution_count": 15,
   "metadata": {},
   "outputs": [
    {
     "name": "stdout",
     "output_type": "stream",
     "text": [
      "[[0.3369983  0.10212329 0.         0.3369983 ]]\n"
     ]
    }
   ],
   "source": [
    "query = \"document\"\n",
    "\n",
    "# TO DO: BM25 model\n",
    "\n",
    "print(doc_scores)"
   ]
  },
  {
   "cell_type": "markdown",
   "metadata": {},
   "source": [
    "Implement the BM25 retrieval model using the inverted-index data structures:"
   ]
  },
  {
   "cell_type": "code",
   "execution_count": 16,
   "metadata": {},
   "outputs": [
    {
     "name": "stdout",
     "output_type": "stream",
     "text": [
      "[[0.3369983  0.10212329 0.         0.3369983 ]]\n"
     ]
    }
   ],
   "source": [
    "query = \"document\"\n",
    "\n",
    "# TO DO: BM25 model\n",
    "\n",
    "print(doc_scores)"
   ]
  },
  {
   "cell_type": "markdown",
   "metadata": {},
   "source": [
    "### Evaluation\n",
    "Using the implemented Retrieval Models, run the experiments of section 4.\n"
   ]
  },
  {
   "cell_type": "markdown",
   "metadata": {},
   "source": [
    "## 3. Pseudo-Relevance Feedback (RM3) (20%)\n",
    "\n",
    "Using the RM3 Model, run the experiments of section 4.\n",
    "\n",
    "Implement the RM3 retrieval model using the matricial definitions:"
   ]
  },
  {
   "cell_type": "code",
   "execution_count": 17,
   "metadata": {},
   "outputs": [
    {
     "name": "stdout",
     "output_type": "stream",
     "text": [
      "[[0.3369983  0.10212329 0.         0.3369983 ]]\n"
     ]
    }
   ],
   "source": [
    "query = \"document\"\n",
    "\n",
    "# TO DO: RM3 model\n",
    "\n",
    "print(doc_scores)"
   ]
  },
  {
   "cell_type": "markdown",
   "metadata": {},
   "source": [
    "Implement the RM3 retrieval model using the inverted-index data structures:"
   ]
  },
  {
   "cell_type": "code",
   "execution_count": 18,
   "metadata": {},
   "outputs": [
    {
     "name": "stdout",
     "output_type": "stream",
     "text": [
      "[[0.3369983  0.10212329 0.         0.3369983 ]]\n"
     ]
    }
   ],
   "source": [
    "query = \"document\"\n",
    "\n",
    "# TO DO: RM3 model\n",
    "\n",
    "print(doc_scores)"
   ]
  },
  {
   "cell_type": "markdown",
   "metadata": {},
   "source": [
    "### Evaluation\n",
    "Using the implemented RM3 model, run the experiments of section 4.\n"
   ]
  },
  {
   "cell_type": "markdown",
   "metadata": {},
   "source": [
    "## 4. Experiments and Results (20%)\n",
    "The goal of this section is to compare experimentally the different retrieval models. In this section you must:\n",
    "- Load the Cranfield documents.\n",
    "- Run the implemented retrieval models\n",
    "- Plot the precision-recall curves.\n",
    "- Compute MAP."
   ]
  },
  {
   "cell_type": "code",
   "execution_count": 28,
   "metadata": {
    "scrolled": true
   },
   "outputs": [
    {
     "name": "stdout",
     "output_type": "stream",
     "text": [
      "Number of documents:  1400\n",
      "Number of queries:  225\n",
      "qid = 1 VSM     AP= 0.29916812608807747\n",
      "qid = 2 VSM     AP= 0.20030450330281352\n",
      "qid = 3 VSM     AP= 0.6647817460317461\n",
      "qid = 4 VSM     AP= 0.5666666666666667\n",
      "qid = 5 VSM     AP= 0.06558541568442558\n",
      "qid = 6 VSM     AP= 0.19247364953886695\n",
      "qid = 7 VSM     AP= 0.11234128530158285\n",
      "qid = 8 VSM     AP= 0.23733381021248487\n",
      "qid = 9 VSM     AP= 0.8095238095238095\n",
      "qid = 10 VSM     AP= 0.1451622592020304\n",
      "qid = 11 VSM     AP= 0.1788379532619164\n",
      "qid = 12 VSM     AP= 0.2138843679764396\n",
      "qid = 13 VSM     AP= 0.002857142857142857\n",
      "qid = 14 VSM     AP= 0.5769230769230769\n",
      "qid = 15 VSM     AP= 0.6428571428571428\n",
      "qid = 16 VSM     AP= 0.22203196347031962\n",
      "qid = 17 VSM     AP= 0.09004474272930649\n",
      "qid = 18 VSM     AP= 0.1862066356448379\n",
      "qid = 19 VSM     AP= 0.02835375832033777\n",
      "qid = 20 VSM     AP= 0.595593763821318\n",
      "qid = 21 VSM     AP= 0.13948170731707316\n",
      "qid = 22 VSM     AP= 0.0007142857142857143\n",
      "qid = 23 VSM     AP= 0.24625819193541243\n",
      "qid = 24 VSM     AP= 0.4979166666666667\n",
      "qid = 25 VSM     AP= 0.42932549331837927\n",
      "qid = 26 VSM     AP= 0.21284657077340002\n",
      "qid = 27 VSM     AP= 0.05457452725250278\n",
      "qid = 28 VSM     AP= 0.0068034282810081545\n",
      "qid = 29 VSM     AP= 0.387704100109178\n",
      "qid = 30 VSM     AP= 0.04819215857433073\n",
      "qid = 31 VSM     AP= 0.0009442870632672333\n",
      "qid = 32 VSM     AP= 0.1585571577219632\n",
      "qid = 33 VSM     AP= 0.5888888888888889\n",
      "qid = 34 VSM     AP= 0.36798245614035086\n",
      "qid = 35 VSM     AP= 0.027566137566137565\n",
      "qid = 36 VSM     AP= 0.020339309812994023\n",
      "qid = 37 VSM     AP= 0.1455466894626298\n",
      "qid = 38 VSM     AP= 0.04557596740126114\n",
      "qid = 39 VSM     AP= 0.15146521522580267\n",
      "qid = 40 VSM     AP= 0.06201547207695127\n",
      "qid = 41 VSM     AP= 0.8095238095238095\n",
      "qid = 42 VSM     AP= 0.222034632034632\n",
      "qid = 43 VSM     AP= 0.6226791726791726\n",
      "qid = 44 VSM     AP= 0.002142857142857143\n",
      "qid = 45 VSM     AP= 0.22197431868573284\n",
      "qid = 46 VSM     AP= 0.2914772280334941\n",
      "qid = 47 VSM     AP= 0.3374300822214694\n",
      "qid = 48 VSM     AP= 0.1442040741041285\n",
      "qid = 49 VSM     AP= 0.2669491525423729\n",
      "qid = 50 VSM     AP= 0.06604580604037838\n",
      "qid = 51 VSM     AP= 0.5392032967032967\n",
      "qid = 52 VSM     AP= 0.7361111111111112\n",
      "qid = 53 VSM     AP= 0.21717959150620297\n",
      "qid = 54 VSM     AP= 0.07707727162810114\n",
      "qid = 55 VSM     AP= 0.19270017509066764\n",
      "qid = 56 VSM     AP= 0.16096775965164709\n",
      "qid = 57 VSM     AP= 0.08356520788651506\n",
      "qid = 58 VSM     AP= 0.1871464328453576\n",
      "qid = 59 VSM     AP= 0.10791715827546856\n",
      "qid = 60 VSM     AP= 0.4371714126377778\n",
      "qid = 61 VSM     AP= 0.49839382561535256\n",
      "qid = 62 VSM     AP= 0.032052977169256244\n",
      "qid = 63 VSM     AP= 0.04426203122485112\n",
      "qid = 64 VSM     AP= 0.41666666666666663\n",
      "qid = 65 VSM     AP= 0.39099191775550757\n",
      "qid = 66 VSM     AP= 0.16941770872805353\n",
      "qid = 67 VSM     AP= 0.5633876651613782\n",
      "qid = 68 VSM     AP= 0.04328807974993665\n",
      "qid = 69 VSM     AP= 0.09784448684748537\n",
      "qid = 70 VSM     AP= 0.06821418958803838\n",
      "qid = 71 VSM     AP= 0.043906282272902046\n",
      "qid = 72 VSM     AP= 0.0669151183738323\n",
      "qid = 73 VSM     AP= 0.32375765561264735\n",
      "qid = 74 VSM     AP= 0.09904414656976018\n",
      "qid = 75 VSM     AP= 0.22521065693544087\n",
      "qid = 76 VSM     AP= 0.17243328165223418\n",
      "qid = 77 VSM     AP= 0.4029365079365079\n",
      "qid = 78 VSM     AP= 0.8055555555555556\n",
      "qid = 79 VSM     AP= 0.03800544368136916\n",
      "qid = 80 VSM     AP= 0.07192640692640692\n",
      "qid = 81 VSM     AP= 0.325\n",
      "qid = 82 VSM     AP= 0.3675294169301019\n",
      "qid = 83 VSM     AP= 0.09787447658992528\n",
      "qid = 84 VSM     AP= 0.30439064772096613\n",
      "qid = 85 VSM     AP= 0.017292061577578944\n",
      "qid = 86 VSM     AP= 0.7\n",
      "qid = 87 VSM     AP= 0.013931955352715165\n",
      "qid = 88 VSM     AP= 0.7051587301587301\n",
      "qid = 89 VSM     AP= 0.13231903247378274\n",
      "qid = 90 VSM     AP= 0.2385399354136727\n",
      "qid = 91 VSM     AP= 0.3131549901705821\n",
      "qid = 92 VSM     AP= 0.4990428807177887\n",
      "qid = 93 VSM     AP= 0.5\n",
      "qid = 94 VSM     AP= 0.5778280357756362\n",
      "qid = 95 VSM     AP= 0.7\n",
      "qid = 96 VSM     AP= 0.32524081473215505\n",
      "qid = 97 VSM     AP= 0.10903201450997257\n",
      "qid = 98 VSM     AP= 0.0249763304047476\n",
      "qid = 99 VSM     AP= 0.2792857142857143\n",
      "qid = 100 VSM     AP= 0.16819938433346598\n",
      "qid = 101 VSM     AP= 0.761890243902439\n",
      "qid = 102 VSM     AP= 0.36814274834076816\n",
      "qid = 103 VSM     AP= 0.010518207282913165\n",
      "qid = 104 VSM     AP= 0.0661477633161268\n",
      "qid = 105 VSM     AP= 0.5272068511198946\n",
      "qid = 106 VSM     AP= 0.15972693032015065\n",
      "qid = 107 VSM     AP= 0.2461162996271955\n",
      "qid = 108 VSM     AP= 0.7174603174603174\n",
      "qid = 109 VSM     AP= 0.03861329866766405\n",
      "qid = 110 VSM     AP= 0.296524064171123\n",
      "qid = 111 VSM     AP= 0.25160330740687886\n",
      "qid = 112 VSM     AP= 0.28448275862068967\n",
      "qid = 113 VSM     AP= 0.289018557763904\n",
      "qid = 114 VSM     AP= 0.11439678530176926\n",
      "qid = 115 VSM     AP= 0.016552128194576996\n",
      "qid = 116 VSM     AP= 0.07727395456517351\n",
      "qid = 117 VSM     AP= 0.03333333333333333\n",
      "qid = 118 VSM     AP= 0.13189655172413794\n",
      "qid = 119 VSM     AP= 1.0\n",
      "qid = 120 VSM     AP= 0.4975191837936936\n",
      "qid = 121 VSM     AP= 0.5479308938275503\n",
      "qid = 122 VSM     AP= 0.19136084569181894\n",
      "qid = 123 VSM     AP= 0.07294429708222812\n",
      "qid = 124 VSM     AP= 0.005512846714853456\n",
      "qid = 125 VSM     AP= 0.34241680188981694\n",
      "qid = 126 VSM     AP= 0.2254266999406018\n",
      "qid = 127 VSM     AP= 0.16709791002654345\n",
      "qid = 128 VSM     AP= 0.02046783625730994\n",
      "qid = 129 VSM     AP= 0.14325174739566365\n",
      "qid = 130 VSM     AP= 0.45013161043311795\n",
      "qid = 131 VSM     AP= 0.29877015035263116\n",
      "qid = 132 VSM     AP= 0.6205457477913748\n",
      "qid = 133 VSM     AP= 0.13952062643239116\n",
      "qid = 134 VSM     AP= 0.1527777777777778\n",
      "qid = 135 VSM     AP= 0.6141870384517443\n",
      "qid = 136 VSM     AP= 0.10871647509578544\n",
      "qid = 137 VSM     AP= 0.25607142857142856\n",
      "qid = 138 VSM     AP= 0.07564102564102565\n",
      "qid = 139 VSM     AP= 0.005921131841958072\n",
      "qid = 140 VSM     AP= 0.10426631483579099\n",
      "qid = 141 VSM     AP= 0.13915182267641282\n",
      "qid = 142 VSM     AP= 0.05\n",
      "qid = 143 VSM     AP= 0.45\n",
      "qid = 144 VSM     AP= 0.6643264143264143\n",
      "qid = 145 VSM     AP= 0.5017766899684809\n",
      "qid = 146 VSM     AP= 0.8333333333333333\n",
      "qid = 147 VSM     AP= 0.26175107422880833\n",
      "qid = 148 VSM     AP= 0.33225909892576555\n",
      "qid = 149 VSM     AP= 0.31657111273645044\n",
      "qid = 150 VSM     AP= 0.8333333333333333\n",
      "qid = 151 VSM     AP= 0.05167414483466899\n",
      "qid = 152 VSM     AP= 0.06194089929437088\n",
      "qid = 153 VSM     AP= 0.27358788589349164\n",
      "qid = 154 VSM     AP= 0.5833333333333333\n",
      "qid = 155 VSM     AP= 0.23643694663795167\n",
      "qid = 156 VSM     AP= 0.5289924093945543\n",
      "qid = 157 VSM     AP= 0.3764322244691538\n",
      "qid = 158 VSM     AP= 0.28402220438737297\n",
      "qid = 159 VSM     AP= 0.11509485265036008\n",
      "qid = 160 VSM     AP= 0.02293097072971287\n",
      "qid = 161 VSM     AP= 0.4673520923520923\n",
      "qid = 162 VSM     AP= 0.13596477171012197\n",
      "qid = 163 VSM     AP= 0.22855133614627285\n",
      "qid = 164 VSM     AP= 0.33339961916668304\n",
      "qid = 165 VSM     AP= 0.7\n",
      "qid = 166 VSM     AP= 0.02289713517887344\n",
      "qid = 167 VSM     AP= 0.07392473118279569\n",
      "qid = 168 VSM     AP= 0.2777777777777778\n",
      "qid = 169 VSM     AP= 0.18297803617571057\n",
      "qid = 170 VSM     AP= 0.4877941127941128\n",
      "qid = 171 VSM     AP= 0.7555555555555555\n",
      "qid = 172 VSM     AP= 0.550595238095238\n",
      "qid = 173 VSM     AP= 0.5833333333333333\n",
      "qid = 174 VSM     AP= 0.14964921383109075\n",
      "qid = 175 VSM     AP= 0.03734262040372693\n",
      "qid = 176 VSM     AP= 0.06415730390666402\n",
      "qid = 177 VSM     AP= 0.8051948051948052\n",
      "qid = 178 VSM     AP= 0.5826330532212884\n",
      "qid = 179 VSM     AP= 0.28046448087431697\n",
      "qid = 180 VSM     AP= 0.3521616541353383\n",
      "qid = 181 VSM     AP= 0.25623192596876804\n",
      "qid = 182 VSM     AP= 0.5833333333333333\n",
      "qid = 183 VSM     AP= 0.5365455083212056\n",
      "qid = 184 VSM     AP= 0.12973118056525632\n",
      "qid = 185 VSM     AP= 0.8022097727980082\n",
      "qid = 186 VSM     AP= 0.24380968700671482\n",
      "qid = 187 VSM     AP= 0.12032153032153031\n",
      "qid = 188 VSM     AP= 0.4031869770550838\n",
      "qid = 189 VSM     AP= 0.12796396918732808\n",
      "qid = 190 VSM     AP= 0.2725133689839572\n",
      "qid = 191 VSM     AP= 0.5812649779879173\n",
      "qid = 192 VSM     AP= 0.5114247311827957\n",
      "qid = 193 VSM     AP= 0.7058131948936547\n",
      "qid = 194 VSM     AP= 0.16084796429624015\n",
      "qid = 195 VSM     AP= 0.0585720441813522\n",
      "qid = 196 VSM     AP= 0.13140145351668928\n",
      "qid = 197 VSM     AP= 0.7916666666666666\n",
      "qid = 198 VSM     AP= 0.4970238095238095\n",
      "qid = 199 VSM     AP= 0.10315571683218741\n",
      "qid = 200 VSM     AP= 0.05851722802942315\n",
      "qid = 201 VSM     AP= 0.18793843721150572\n",
      "qid = 202 VSM     AP= 0.2544528844044488\n",
      "qid = 203 VSM     AP= 0.12871306263642102\n",
      "qid = 204 VSM     AP= 0.13345144700664174\n",
      "qid = 205 VSM     AP= 0.18055555555555555\n",
      "qid = 206 VSM     AP= 0.07111616066699698\n",
      "qid = 207 VSM     AP= 0.3315294117647059\n",
      "qid = 208 VSM     AP= 0.4807692307692307\n",
      "qid = 209 VSM     AP= 0.17202796512823879\n",
      "qid = 210 VSM     AP= 0.3385891135891136\n",
      "qid = 211 VSM     AP= 0.14182566200339963\n",
      "qid = 212 VSM     AP= 0.5275626741452567\n",
      "qid = 213 VSM     AP= 0.5722844400488706\n",
      "qid = 214 VSM     AP= 0.10469979542590375\n",
      "qid = 215 VSM     AP= 0.04643206256109482\n",
      "qid = 216 VSM     AP= 0.0018656716417910447\n",
      "qid = 217 VSM     AP= 0.31421581895432255\n",
      "qid = 218 VSM     AP= 0.3521034955492672\n",
      "qid = 219 VSM     AP= 0.08927919614049684\n",
      "qid = 220 VSM     AP= 0.15400577619817438\n",
      "qid = 221 VSM     AP= 0.17708616716369516\n"
     ]
    },
    {
     "name": "stdout",
     "output_type": "stream",
     "text": [
      "qid = 222 VSM     AP= 0.6845848595848596\n",
      "qid = 223 VSM     AP= 0.4557269752220664\n",
      "qid = 224 VSM     AP= 0.13826831201088416\n",
      "qid = 225 VSM     AP= 0.11012935447762616\n"
     ]
    },
    {
     "data": {
      "image/png": "[encoded data removed]",
      "text/plain": [
       "<Figure size 432x288 with 1 Axes>"
      ]
     },
     "metadata": {
      "needs_background": "light"
     },
     "output_type": "display_data"
    }
   ],
   "source": [
    "import numpy as np\n",
    "from sklearn.feature_extraction.text import CountVectorizer\n",
    "import matplotlib.pyplot as plt\n",
    "import simpleparser as parser\n",
    "from sklearn.feature_extraction.text import CountVectorizer\n",
    "from sklearn.metrics import precision_recall_curve\n",
    "from sklearn.metrics import average_precision_score\n",
    "\n",
    "import collectionloaders\n",
    "import RetrievalModelsMatrix as models\n",
    "\n",
    "verbose = True\n",
    "bigrams = False\n",
    "is_sw = 0.05\n",
    "\n",
    "### 1. Load the corpus\n",
    "cranfield = collectionloaders.CranfieldTestBed()\n",
    "\n",
    "### 2. Parse the corpus\n",
    "# Tokenize, stem and remove stop words\n",
    "if not bigrams:\n",
    "    vectorizer = CountVectorizer()\n",
    "else:\n",
    "    vectorizer = CountVectorizer(ngram_range=(1, 2), token_pattern=r'\\b\\w+\\b', \n",
    "                                    min_df=1)\n",
    "\n",
    "corpus = parser.stemCorpus(cranfield.corpus_cranfield['abstract'])\n",
    "\n",
    "### 3. Create the model\n",
    "# Compute the term frequencies matrix and the model statistics\n",
    "tf_cranfield = vectorizer.fit_transform(corpus).toarray()\n",
    "models = models.RetrievalModelsMatrix(tf_cranfield, vectorizer)\n",
    "\n",
    "### 4. Run the queries over the corpus\n",
    "i = 1\n",
    "map_vsm = 0\n",
    "precision_vsm = []\n",
    "\n",
    "for query in cranfield.queries:\n",
    "    # Parse the query and compute the document scores\n",
    "    scores = models.score_vsm(parser.stemSentence(query))\n",
    "\n",
    "    # Do the evaluation\n",
    "    [average_precision, precision, recall, thresholds] = cranfield.eval(scores, i)\n",
    "    map_vsm = map_vsm + average_precision\n",
    "    precision_vsm.append(precision)\n",
    "    \n",
    "    # Some messages...\n",
    "    if verbose:\n",
    "        plt.plot(recall, precision, color='silver', alpha=0.1)\n",
    "        print('qid =',i, 'VSM     AP=',average_precision)\n",
    "    \n",
    "    i = i + 1\n",
    "\n",
    "map_vsm = map_vsm/cranfield.num_queries\n"
   ]
  },
  {
   "cell_type": "code",
   "execution_count": 20,
   "metadata": {},
   "outputs": [
    {
     "data": {
      "text/plain": [
       "0      what similarity laws must be obeyed when const...\n",
       "1      what are the structural and aeroelastic proble...\n",
       "2      what problems of heat conduction in composite ...\n",
       "3      can a criterion be developed to show empirical...\n",
       "4      what chemical kinetic system is applicable to ...\n",
       "5      what theoretical and experimental guides do we...\n",
       "6      is it possible to relate the available pressur...\n",
       "7      what methods -dash exact or approximate -dash ...\n",
       "8      papers on internal /slip flow/ heat transfer s...\n",
       "9      are real-gas transport properties for air avai...\n",
       "10     is it possible to find an analytical,  similar...\n",
       "11     how can the aerodynamic performance of channel...\n",
       "12     what is the basic mechanism of the transonic a...\n",
       "13             papers on shock-sound wave interaction . \n",
       "14      material properties of photoelastic materials . \n",
       "15     can the transverse potential flow about a body...\n",
       "16     can the three-dimensional problem of a transve...\n",
       "17     are experimental pressure distributions on bod...\n",
       "18     does there exist a good basic treatment of the...\n",
       "19     has anyone formally determined the influence o...\n",
       "20     why does the compressibility transformation fa...\n",
       "21     did anyone else discover that the turbulent sk...\n",
       "22     what progress has been made in research on uns...\n",
       "23     what are the factors which influence the time ...\n",
       "24     does a practical flow follow the theoretical c...\n",
       "25     what is a single approximate formula for the d...\n",
       "26     how is the design of ring or part ring wings b...\n",
       "27     what application has the linear theory design ...\n",
       "28     what is the effect of cross sectional shape on...\n",
       "29     papers on flow visualization on slender conica...\n",
       "                             ...                        \n",
       "195    the problem of similarity for representative i...\n",
       "196    how is fatigue damage estimated using the norm...\n",
       "197    is there any information available on the diff...\n",
       "198    have non-linear large deflection analyses been...\n",
       "199    are asymptotic methods sufficiently accurate i...\n",
       "200    what are the nonequilibrium chemical constitue...\n",
       "201    how accurate are existing analytical theories ...\n",
       "202    are simple empirical methods of any use for es...\n",
       "203    do viscous effects seriously modify pressure d...\n",
       "204    has anyone investigated theoretically whether ...\n",
       "205    how do subsonic and transonic flutter data mea...\n",
       "206    how do large changes in new mass ratio quantit...\n",
       "207    what is the effect of the shape of the drag po...\n",
       "208    what are the physical significance and charact...\n",
       "209    has anyone analytically investigated the stabi...\n",
       "210    what papers are available on the buckling of e...\n",
       "211    what effect do thermal stresses have on the co...\n",
       "212    what is the effect on cylinder buckling of a c...\n",
       "213    can non-linear shallow shell analysis be reduc...\n",
       "214    is it possible to predict the shape of a shrou...\n",
       "215    what investigations have been made of the wave...\n",
       "216    has anyone investigated the effect of shock ge...\n",
       "217    what is the heat transfer to a blunt body in t...\n",
       "218    what are the general effects on flow fields wh...\n",
       "219    find a calculation procedure applicable to all...\n",
       "220    papers applicable to this problem (calculation...\n",
       "221    has anyone investigated the shear buckling of ...\n",
       "222    papers on shear buckling of unstiffened rectan...\n",
       "223    in practice, how close to reality are the assu...\n",
       "224    what design factors can be used to control lif...\n",
       "Name: query, Length: 225, dtype: object"
      ]
     },
     "execution_count": 20,
     "metadata": {},
     "output_type": "execute_result"
    }
   ],
   "source": [
    "cranfield.queries"
   ]
  },
  {
   "cell_type": "code",
   "execution_count": 29,
   "metadata": {
    "scrolled": true
   },
   "outputs": [
    {
     "name": "stdout",
     "output_type": "stream",
     "text": [
      "MAP= 0.2842886435106585\n"
     ]
    },
    {
     "data": {
      "image/png": "[encoded data removed]",
      "text/plain": [
       "<Figure size 432x288 with 1 Axes>"
      ]
     },
     "metadata": {
      "needs_background": "light"
     },
     "output_type": "display_data"
    }
   ],
   "source": [
    "### Show results\n",
    "print('MAP=',map_vsm)\n",
    "\n",
    "mean_precision = np.mean(precision_vsm,axis=0)\n",
    "std_precision = np.std(precision_vsm,axis=0)\n",
    "\n",
    "plt.plot(recall, mean_precision, color='r', alpha=1)\n",
    "plt.gca().set_aspect('equal', adjustable='box')\n",
    "plt.fill_between(recall, \n",
    "                 mean_precision - std_precision, \n",
    "                 mean_precision + std_precision, facecolor='b', alpha=0.1)\n",
    "\n",
    "plt.xlabel('Recall')\n",
    "plt.ylabel('Precision')\n",
    "plt.ylim([0.0, 1.0])\n",
    "plt.xlim([0.0, 1.0])\n",
    "plt.title('Precision-Recall (MAP={0:0.2f})'.format(map_vsm))\n",
    "plt.savefig('results/prec-recall.png', dpi=100)\n"
   ]
  },
  {
   "cell_type": "code",
   "execution_count": null,
   "metadata": {},
   "outputs": [],
   "source": []
  },
  {
   "cell_type": "markdown",
   "metadata": {},
   "source": [
    "### Results and discussion\n",
    "\n",
    "\n",
    "The following table summarizes the MAP and P10 results:\n",
    "\n",
    "| Retrieval Model | P10 | MAP   |\n",
    "|-----------------|-----|-------|\n",
    "| VSM             | ?   | {{map_vsm}} |\n",
    "| LMD             | ?   | ? |\n",
    "| LMJM             | ?   | ? |\n",
    "| BM25             | ?   | ? |\n",
    "\n",
    "![](results/prec-recall.png)"
   ]
  }
 ],
 "metadata": {
  "kernelspec": {
   "display_name": "Python 3",
   "language": "python",
   "name": "python3"
  },
  "language_info": {
   "codemirror_mode": {
    "name": "ipython",
    "version": 3
   },
   "file_extension": ".py",
   "mimetype": "text/x-python",
   "name": "python",
   "nbconvert_exporter": "python",
   "pygments_lexer": "ipython3",
   "version": "3.7.3"
  }
 },
 "nbformat": 4,
 "nbformat_minor": 2
}
