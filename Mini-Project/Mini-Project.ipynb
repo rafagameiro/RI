{
 "cells": [
  {
   "cell_type": "markdown",
   "metadata": {},
   "source": [
    "# Mini-Project: A Simple Search Engine from Scratch\n",
    "In this mini-project you will study the fundaments of IR.\n",
    "\n",
    "The mini-project is divided as follow:\n",
    "\n",
    "- **Week 1**: Study the provided notebook. Using the VSM retrieval model, run experiments *(section 4)* with the provided collection. Compute the metrics MAP, P10 and precision-recall curves.\n",
    "\n",
    "- **Week 2**: Implement the LMD and LMJM retrieval models and repeat the experiments with the new models. Compare it to the previous retrieval models.\n",
    "\n",
    "- **Week 3**: Implement the RM3 retrieval model and repeat the experiments with the new models. Compare it to the previous retrieval models.\n",
    "\n",
    "- **Week 4**: Implement the BM25 retrieval model and repeat the experiments with the new models. Compare it to the previous retrieval models.\n",
    "\n",
    "**Submission date: 15 October**\n",
    "\n",
    "## 1. Vector Space Model\n",
    "\n",
    "In the vector space model, documents are represented as a vector $d_j=(w_{d_j,1},w_{d_j,2}, ..., w_{d_j,n})$ of $n$ word frequencies -- most of the words are equal to 0. Queries are also represented as a vector of words $q_j=(w_{q_j,1},w_{q_j,2}, ..., w_{q_j,n})$. In the vector space model, each document word is weighted by their *tf-idf*\n",
    "\n",
    "$${tf-idf} = tf*\\frac{|D|}{log (df(w_a))}$$\n",
    "\n",
    "The vector space model is based on the cosine similarity, which measures the angle between the two vectors in the 1-unit sphere:\n",
    "\n",
    "$$cos(q,d) = \\frac{\\sum_t q_t\\cdot d_t}{\\sqrt{\\sum_t q^2_t}\\cdot \\sqrt{\\sum_t d^2_t }}$$\n",
    "\n",
    "\n",
    "Below you can read the corresponding matricial implementation for multiple documents.\n",
    "\n",
    "### Parser\n",
    "Using the CountVectorizer class of Scikit-Learn, try the different parser options by generating unigrams and bigrams with different stop words.\n"
   ]
  },
  {
   "cell_type": "code",
   "execution_count": 2,
   "metadata": {},
   "outputs": [],
   "source": [
    "import pandas as pd\n",
    "import numpy as np\n",
    "from sklearn.feature_extraction.text import CountVectorizer #faz a separação de um texto em palavras\n",
    "\n",
    "vectorizer = CountVectorizer()\n",
    "bigram_vectorizer = CountVectorizer(ngram_range=(1, 2), #max number of words a vector entry can have\n",
    "                                    token_pattern=r'\\b\\w+\\b', #regExp that select one word or infinite words (w+)\n",
    "                                    min_df=1, #min frequency, if it is int only if the word appears int times it will be stored\n",
    "                                    stop_words = {'the', 'is'} #words that are irrelevant to the search\n",
    "                                   )\n",
    "\n",
    "corpus = ['This is the first document.',\n",
    "'This is the second second document.',\n",
    "'And the third one.',\n",
    "'Is this the first document?', ]"
   ]
  },
  {
   "cell_type": "code",
   "execution_count": 2,
   "metadata": {},
   "outputs": [
    {
     "data": {
      "text/plain": [
       "['this', 'is', 'text', 'document', 'to', 'analyze']"
      ]
     },
     "execution_count": 2,
     "metadata": {},
     "output_type": "execute_result"
    }
   ],
   "source": [
    "uni_analyze = vectorizer.build_analyzer()\n",
    "uni_analyze(\"This is a text document to analyze.\")"
   ]
  },
  {
   "cell_type": "code",
   "execution_count": 3,
   "metadata": {},
   "outputs": [
    {
     "name": "stdout",
     "output_type": "stream",
     "text": [
      "['and', 'document', 'first', 'is', 'one', 'second', 'the', 'third', 'this']\n",
      "\n",
      "[[0 1 1 1 0 0 1 0 1]\n",
      " [0 1 0 1 0 2 1 0 1]\n",
      " [1 0 0 0 1 0 1 1 0]\n",
      " [0 1 1 1 0 0 1 0 1]]\n"
     ]
    }
   ],
   "source": [
    "tf_uni = vectorizer.fit_transform(corpus).toarray()\n",
    "print(vectorizer.get_feature_names())\n",
    "print()\n",
    "print(tf_uni)"
   ]
  },
  {
   "cell_type": "code",
   "execution_count": 4,
   "metadata": {},
   "outputs": [
    {
     "data": {
      "text/plain": [
       "['this',\n",
       " 'a',\n",
       " 'text',\n",
       " 'document',\n",
       " 'to',\n",
       " 'analyze',\n",
       " 'this a',\n",
       " 'a text',\n",
       " 'text document',\n",
       " 'document to',\n",
       " 'to analyze']"
      ]
     },
     "execution_count": 4,
     "metadata": {},
     "output_type": "execute_result"
    }
   ],
   "source": [
    "bi_analyze = bigram_vectorizer.build_analyzer()\n",
    "bi_analyze(\"This is a text document to analyze.\") "
   ]
  },
  {
   "cell_type": "code",
   "execution_count": 5,
   "metadata": {},
   "outputs": [
    {
     "name": "stdout",
     "output_type": "stream",
     "text": [
      "['and', 'and third', 'document', 'first', 'first document', 'one', 'second', 'second document', 'second second', 'third', 'third one', 'this', 'this first', 'this second']\n",
      "\n",
      "[[0 0 1 1 1 0 0 0 0 0 0 1 1 0]\n",
      " [0 0 1 0 0 0 2 1 1 0 0 1 0 1]\n",
      " [1 1 0 0 0 1 0 0 0 1 1 0 0 0]\n",
      " [0 0 1 1 1 0 0 0 0 0 0 1 1 0]]\n"
     ]
    }
   ],
   "source": [
    "tf_bi = bigram_vectorizer.fit_transform(corpus).toarray()\n",
    "print(bigram_vectorizer.get_feature_names())\n",
    "print()\n",
    "print(tf_bi)"
   ]
  },
  {
   "cell_type": "code",
   "execution_count": 6,
   "metadata": {},
   "outputs": [
    {
     "name": "stdout",
     "output_type": "stream",
     "text": [
      "2\n"
     ]
    }
   ],
   "source": [
    "print(bigram_vectorizer.vocabulary_.get('document')) # returns the index of the word in the array"
   ]
  },
  {
   "cell_type": "markdown",
   "metadata": {},
   "source": [
    "### TF IDF and the cosine similarity"
   ]
  },
  {
   "cell_type": "code",
   "execution_count": 8,
   "metadata": {},
   "outputs": [
    {
     "name": "stdout",
     "output_type": "stream",
     "text": [
      "\n",
      "tf:\n",
      " [[0 1 1 1 0 0 1 0 1]\n",
      " [0 1 0 1 0 2 1 0 1]\n",
      " [1 0 0 0 1 0 1 1 0]\n",
      " [0 1 1 1 0 0 1 0 1]]\n",
      "\n",
      "idf:\n",
      " [1.38629436 0.28768207 0.69314718 0.28768207 1.38629436 1.38629436\n",
      " 0.         1.38629436 0.28768207]\n",
      "\n",
      "tfidf:\n",
      " [[0.         0.28768207 0.69314718 0.28768207 0.         0.\n",
      "  0.         0.         0.28768207]\n",
      " [0.         0.28768207 0.         0.28768207 0.         2.77258872\n",
      "  0.         0.         0.28768207]\n",
      " [1.38629436 0.         0.         0.         1.38629436 0.\n",
      "  0.         1.38629436 0.        ]\n",
      " [0.         0.28768207 0.69314718 0.28768207 0.         0.\n",
      "  0.         0.         0.28768207]]\n",
      "\n",
      "docnorms:\n",
      " [0.85366032 2.81700748 2.40113227 0.85366032]\n",
      "\n",
      "min idf:\n",
      " 0.8536603178950374\n"
     ]
    }
   ],
   "source": [
    "termCollFreq = np.sum(tf_uni != 0, axis = 0) #axis = 0 -> eixo dos x\n",
    "docLen = np.sum(tf_uni, axis = 1) #axis = 1 -> eixo dos y\n",
    "\n",
    "idf = np.log(np.size(corpus)/termCollFreq)\n",
    "idf_rows = np.dot(np.ones((np.size(corpus),1)), #creates an identity matrix given the shape and type\n",
    "                  idf.reshape(1,np.size(idf)) #normalize the array\n",
    "                 )\n",
    "tfidf = tf_uni*idf_rows\n",
    "\n",
    "docNorms = np.sqrt(np.sum(np.power(tfidf,2), axis = 1)) #primeiro sqrt\n",
    "        \n",
    "print(\"\\ntf:\\n\", tf_uni)\n",
    "print(\"\\nidf:\\n\", idf)\n",
    "print(\"\\ntfidf:\\n\", tfidf)\n",
    "print(\"\\ndocnorms:\\n\", docNorms)\n",
    "\n",
    "print(\"\\nmin idf:\\n\", min(docNorms))"
   ]
  },
  {
   "cell_type": "code",
   "execution_count": 12,
   "metadata": {},
   "outputs": [
    {
     "name": "stdout",
     "output_type": "stream",
     "text": [
      "[[0.3369983  0.10212329 0.         0.3369983 ]]\n"
     ]
    }
   ],
   "source": [
    "query = 'document'\n",
    "query_vector = vectorizer.transform([query]).toarray()\n",
    "queryNorm = np.sqrt(np.sum(np.power(query_vector, 2), axis = 1)) #segundo sqrt\n",
    "\n",
    "doc_scores = np.dot(query_vector, tfidf.T)/(docNorms*queryNorm) #formula acima\n",
    "\n",
    "print(doc_scores)"
   ]
  },
  {
   "cell_type": "markdown",
   "metadata": {},
   "source": [
    "### Inverted Index\n",
    "The matricial implementation is not scalable because it computes the similarity for all documents in the collection. However, one should only compute the similarity for the documents containing the query words. This is where the inverted index comes to our rescue.\n",
    "\n",
    "Read the inverted index implementation presented next. Describe in your own words how the cosine similarity should be implemented with the inverted index:\n"
   ]
  },
  {
   "cell_type": "code",
   "execution_count": 13,
   "metadata": {
    "scrolled": false
   },
   "outputs": [
    {
     "name": "stdout",
     "output_type": "stream",
     "text": [
      "==== Creating the posting list for token \" and \"\n",
      "[(1, 2)]\n",
      "==== Creating the posting list for token \" document \"\n",
      "[(1, 0), (1, 1), (1, 3)]\n",
      "==== Creating the posting list for token \" first \"\n",
      "[(1, 0), (1, 3)]\n",
      "==== Creating the posting list for token \" is \"\n",
      "[(1, 0), (1, 1), (1, 3)]\n",
      "==== Creating the posting list for token \" one \"\n",
      "[(1, 2)]\n",
      "==== Creating the posting list for token \" second \"\n",
      "[(2, 1)]\n",
      "==== Creating the posting list for token \" the \"\n",
      "[(1, 0), (1, 1), (1, 2), (1, 3)]\n",
      "==== Creating the posting list for token \" third \"\n",
      "[(1, 2)]\n",
      "==== Creating the posting list for token \" this \"\n",
      "[(1, 0), (1, 1), (1, 3)]\n"
     ]
    }
   ],
   "source": [
    "features = vectorizer.get_feature_names()\n",
    "\n",
    "i = 0\n",
    "inverted_index = dict()\n",
    "for token in features:\n",
    "    print(\"==== Creating the posting list for token \\\"\", token, \"\\\"\")\n",
    "    #tf_uni[:,i] -> access column i \n",
    "    \n",
    "    docs_with_token = np.where(tf_uni[:,i] != 0) #retrieves array with index where value is 'true'\n",
    "    len = np.size(docs_with_token,1)\n",
    "    \n",
    "    #creates an array with an pair (value of position (docs_with_token, i), docs_with_token)\n",
    "    postings_matrix = np.concatenate([tf_uni[docs_with_token,i], docs_with_token])\n",
    "    \n",
    "    #postings_matrix.T -> transpose the matrix\n",
    "    #creates a list of tuples with the elements of the transposed matrix 'postings_matrix'\n",
    "    postings_list = list(map(tuple, postings_matrix.T))\n",
    "    inverted_index[token] = postings_list\n",
    "\n",
    "    print(postings_list)\n",
    "    i = i + 1"
   ]
  },
  {
   "cell_type": "markdown",
   "metadata": {},
   "source": [
    "### Evaluation\n",
    "Using the Vector Space Model, run the experiments of section 4.\n",
    "\n",
    "We advice you to use an external Python IDE for editing more complex implementations. **The Notebook should be used as a notebook, not as an IDE**. Your implementations should be organized on external classes as below:"
   ]
  },
  {
   "cell_type": "code",
   "execution_count": 14,
   "metadata": {},
   "outputs": [
    {
     "data": {
      "text/plain": [
       "array([[0.33695882, 0.10211967, 0.        , 0.33695882]])"
      ]
     },
     "execution_count": 14,
     "metadata": {},
     "output_type": "execute_result"
    }
   ],
   "source": [
    "import RetrievalModelsMatrix as b\n",
    "\n",
    "aa = b.RetrievalModelsMatrix(tf_uni, vectorizer)\n",
    "\n",
    "aa.score_vsm('document')"
   ]
  },
  {
   "cell_type": "markdown",
   "metadata": {},
   "source": [
    "## 2. Retrieval Models\n",
    "\n",
    "In this section you will implement three of the most popular retrieval model. After finishing each retrieval model implementation, run the experiments of section 4 with the new model.\n",
    "\n",
    "### Language Model with Jelineck-Mercer Smoothing (20%)\n",
    "The family of Language Models for retrieval build on the density distribution of the terms over each document and the density distribution of terms over the collection of documents.\n",
    "\n",
    "There several ways of avoiding the zero probabilities problem with term smoothing.  The Jelineck-Mercer smoothing model uses a mixture of probabilities between the document model $M_d$ and the corpus model $M_c$:\n",
    "\n",
    "$$p(q|d,C)= \\lambda \\cdot p(q|M_d) + (1-\\lambda)\\cdot p(q|M_c)$$\n",
    "\n",
    "Implement the LMJM retrieval model using the matricial definitions:"
   ]
  },
  {
   "cell_type": "code",
   "execution_count": 5,
   "metadata": {},
   "outputs": [
    {
     "name": "stdout",
     "output_type": "stream",
     "text": [
      "ptmd\n",
      " [[0.         0.2        0.2        0.2        0.         0.\n",
      "  0.2        0.         0.2       ]\n",
      " [0.         0.16666667 0.         0.16666667 0.         0.33333333\n",
      "  0.16666667 0.         0.16666667]\n",
      " [0.25       0.         0.         0.         0.25       0.\n",
      "  0.25       0.25       0.        ]\n",
      " [0.         0.2        0.2        0.2        0.         0.\n",
      "  0.2        0.         0.2       ]]\n",
      "ptmc\n",
      " [0.05263158 0.15789474 0.10526316 0.15789474 0.05263158 0.05263158\n",
      " 0.21052632 0.05263158 0.15789474]\n",
      "[0.17894737 0.1622807  0.07894737 0.17894737]\n"
     ]
    }
   ],
   "source": [
    "query = \"document\"\n",
    "lamb = 0.5\n",
    "\n",
    "termCollFreq = np.sum(tf_uni != 0, axis = 0) #axis = 0 -> eixo dos x\n",
    "docLen = np.sum(tf_uni, axis = 1) #axis = 1 -> eixo dos y\n",
    "\n",
    "ptmd = np.dot(np.ones((np.size(termCollFreq),1)), [docLen])\n",
    "\n",
    "\n",
    "ptmd = tf_uni * (1/ptmd.T) #P(t|Md)\n",
    "\n",
    "print('ptmd\\n', ptmd)\n",
    "\n",
    "ptmc = termCollFreq / sum(termCollFreq) #P(t|Mc)\n",
    "\n",
    "print('ptmc\\n', ptmc)\n",
    "\n",
    "lmjm = lamb * ptmd + (1 - lamb) * ptmc\n",
    "\n",
    "query_vec = vectorizer.transform([query]).toarray()\n",
    "\n",
    "doc_score = np.prod(lmjm ** query_vec, axis = 1)\n",
    "\n",
    "\n",
    "print(doc_score)\n"
   ]
  },
  {
   "cell_type": "markdown",
   "metadata": {},
   "source": [
    "Implement the LMJM retrieval model using the inverted-index data structures:"
   ]
  },
  {
   "cell_type": "code",
   "execution_count": 12,
   "metadata": {},
   "outputs": [
    {
     "name": "stdout",
     "output_type": "stream",
     "text": [
      "[[0.3369983  0.10212329 0.         0.3369983 ]]\n"
     ]
    }
   ],
   "source": [
    "query = \"document\"\n",
    "\n",
    "# TO DO: LMJM model\n",
    "\n",
    "print(doc_scores)"
   ]
  },
  {
   "cell_type": "markdown",
   "metadata": {},
   "source": [
    "### Language Model with Dirichlet Smoothing (20%)\n",
    "Another way of avoiding the zero probabilities problem is with the Dirichlet smoothing model that uses a mixture of frequencies between the term document frequencies $f_{t,c}$ and the term corpus frequency $\\mu \\cdot M_c(t)$:\n",
    "\n",
    "$$p(t|M_d, M_c)= \\frac{f_{t,d}+\\mu \\cdot M_c(t)}{|d| + \\mu}$$\n",
    "\n",
    "Implement the LMD retrieval model using the matricial definitions:\n"
   ]
  },
  {
   "cell_type": "code",
   "execution_count": 8,
   "metadata": {},
   "outputs": [
    {
     "name": "stdout",
     "output_type": "stream",
     "text": [
      "[0.01100843 0.01267534]\n",
      "ptmc\n",
      " [0.07692308 0.07692308 0.07692308 0.07692308 0.15384615 0.07692308\n",
      " 0.07692308 0.07692308 0.07692308 0.07692308 0.07692308 0.07692308]\n",
      "[0.01100843 0.01267534]\n"
     ]
    }
   ],
   "source": [
    "corpus = [\n",
    "    'Jackson was one of the most talented entertainers of all time',\n",
    "    'Michael Jackson anointed himself King of Pop'\n",
    "]\n",
    "\n",
    "query = \"Michael Jackson\"\n",
    "\n",
    "new = 100\n",
    "\n",
    "vectorizer = CountVectorizer(stop_words = {'the', 'was', 'of'})\n",
    "\n",
    "tf_uni = vectorizer.fit_transform(corpus).toarray()\n",
    "termCollFreq = np.sum(tf_uni != 0, axis = 0) #axis = 0 -> eixo dos x\n",
    "docLen = np.sum(tf_uni, axis = 1) #axis = 1 -> eixo dos y\n",
    "\n",
    "ptmc = termCollFreq / sum(termCollFreq) #P(t|Mc)\n",
    "\n",
    "query_vec = vectorizer.transform([query]).toarray()\n",
    "\n",
    "arr = np.dot(np.ones((np.size(termCollFreq),1)), [docLen])\n",
    "\n",
    "lmd = (tf_uni + new * ptmc) / (arr + new).T\n",
    "\n",
    "doc_scores = np.prod(lmd ** query_vec, axis = 1)\n",
    "\n",
    "print(doc_scores)\n",
    "\n",
    "\n",
    "import RetrievalModelsMatrix as b\n",
    "\n",
    "aa = b.RetrievalModelsMatrix(tf_uni, vectorizer)\n",
    "\n",
    "result = aa.score_lmd(query)\n",
    "\n",
    "print(result)"
   ]
  },
  {
   "cell_type": "markdown",
   "metadata": {},
   "source": [
    "Implement the LMD retrieval model using the inverted-index data structures:"
   ]
  },
  {
   "cell_type": "code",
   "execution_count": 14,
   "metadata": {},
   "outputs": [
    {
     "name": "stdout",
     "output_type": "stream",
     "text": [
      "[[0.3369983  0.10212329 0.         0.3369983 ]]\n"
     ]
    }
   ],
   "source": [
    "query = \"document\"\n",
    "\n",
    "# TO DO: LMD model\n",
    "\n",
    "print(doc_scores)"
   ]
  },
  {
   "cell_type": "markdown",
   "metadata": {},
   "source": [
    "### BM 25 (20%)\n",
    "\n",
    "The BM25 is model is an evolution of the tf-idf weighting based on a two Poisson distribution per term. It is obviously impossible to estimate each term distribution -- the approximation to the two Poisson distribution is given by the expression:\n",
    "\n",
    "$$RSV = \\sum q_t \\cdot \\frac{f_{t,d}(k_1 + 1)}{k_1 ((1-b) + b(\\frac{l_d}{l_avg})) + f_{t,d} }\\cdot IDF_t$$\n",
    "\n",
    "Implement the BM5 retrieval model using the matricial definitions:"
   ]
  },
  {
   "cell_type": "code",
   "execution_count": 15,
   "metadata": {},
   "outputs": [
    {
     "name": "stdout",
     "output_type": "stream",
     "text": [
      "[[0.3369983  0.10212329 0.         0.3369983 ]]\n"
     ]
    }
   ],
   "source": [
    "query = \"document\"\n",
    "\n",
    "# TO DO: BM25 model\n",
    "\n",
    "print(doc_scores)"
   ]
  },
  {
   "cell_type": "markdown",
   "metadata": {},
   "source": [
    "Implement the BM25 retrieval model using the inverted-index data structures:"
   ]
  },
  {
   "cell_type": "code",
   "execution_count": 16,
   "metadata": {},
   "outputs": [
    {
     "name": "stdout",
     "output_type": "stream",
     "text": [
      "[[0.3369983  0.10212329 0.         0.3369983 ]]\n"
     ]
    }
   ],
   "source": [
    "query = \"document\"\n",
    "\n",
    "# TO DO: BM25 model\n",
    "\n",
    "print(doc_scores)"
   ]
  },
  {
   "cell_type": "markdown",
   "metadata": {},
   "source": [
    "### Evaluation\n",
    "Using the implemented Retrieval Models, run the experiments of section 4.\n"
   ]
  },
  {
   "cell_type": "markdown",
   "metadata": {},
   "source": [
    "## 3. Pseudo-Relevance Feedback (RM3) (20%)\n",
    "\n",
    "Using the RM3 Model, run the experiments of section 4.\n",
    "\n",
    "Implement the RM3 retrieval model using the matricial definitions:"
   ]
  },
  {
   "cell_type": "code",
   "execution_count": 17,
   "metadata": {},
   "outputs": [
    {
     "name": "stdout",
     "output_type": "stream",
     "text": [
      "[[0.3369983  0.10212329 0.         0.3369983 ]]\n"
     ]
    }
   ],
   "source": [
    "query = \"document\"\n",
    "\n",
    "# TO DO: RM3 model\n",
    "\n",
    "print(doc_scores)"
   ]
  },
  {
   "cell_type": "markdown",
   "metadata": {},
   "source": [
    "Implement the RM3 retrieval model using the inverted-index data structures:"
   ]
  },
  {
   "cell_type": "code",
   "execution_count": 18,
   "metadata": {},
   "outputs": [
    {
     "name": "stdout",
     "output_type": "stream",
     "text": [
      "[[0.3369983  0.10212329 0.         0.3369983 ]]\n"
     ]
    }
   ],
   "source": [
    "query = \"document\"\n",
    "\n",
    "# TO DO: RM3 model\n",
    "\n",
    "print(doc_scores)"
   ]
  },
  {
   "cell_type": "markdown",
   "metadata": {},
   "source": [
    "### Evaluation\n",
    "Using the implemented RM3 model, run the experiments of section 4.\n"
   ]
  },
  {
   "cell_type": "markdown",
   "metadata": {},
   "source": [
    "## 4. Experiments and Results (20%)\n",
    "The goal of this section is to compare experimentally the different retrieval models. In this section you must:\n",
    "- Load the Cranfield documents.\n",
    "- Run the implemented retrieval models\n",
    "- Plot the precision-recall curves.\n",
    "- Compute MAP."
   ]
  },
  {
   "cell_type": "code",
   "execution_count": 19,
   "metadata": {
    "scrolled": true
   },
   "outputs": [
    {
     "name": "stdout",
     "output_type": "stream",
     "text": [
      "Number of documents:  1400\n",
      "Number of queries:  225\n",
      "qid = 13 VSM     AP= 0.002857142857142857\n",
      "query: \n",
      " what is the basic mechanism of the transonic aileron buzz . \n",
      "qid = 19 VSM     AP= 0.04254775436659339\n",
      "query: \n",
      " does there exist a good basic treatment of the dynamics of re-entry combining consideration of realistic effects with relative simplicity of results . \n",
      "qid = 22 VSM     AP= 0.0007142857142857143\n",
      "query: \n",
      " did anyone else discover that the turbulent skin friction is not over sensitive to the nature of the variation of the viscosity with temperature . \n",
      "qid = 28 VSM     AP= 0.006408703726131363\n",
      "query: \n",
      " what application has the linear theory design of curved wings . \n",
      "qid = 31 VSM     AP= 0.0009242144177449168\n",
      "query: \n",
      " what size of end plate can be safely used to simulate two-dimensional flow conditions over a bluff cylindrical body of finite aspect ratio . \n",
      "qid = 35 VSM     AP= 0.03115147442485572\n",
      "query: \n",
      " are there any papers dealing with acoustic wave propagation in reacting gases . \n",
      "qid = 36 VSM     AP= 0.02465348784367189\n",
      "query: \n",
      " has anyone investigated relaxation effects on gaseous heat transfer to a suddenly heated wall . \n",
      "qid = 44 VSM     AP= 0.002142857142857143\n",
      "query: \n",
      " what are the details of the rigorous kinetic theory of gases . (chapman-enskog theory) . \n",
      "qid = 62 VSM     AP= 0.019390018194366018\n",
      "query: \n",
      " how far around a cylinder and under what conditions of flow,  if any, is the velocity just outside of the boundary layer a linear function of the distance around the cylinder . \n",
      "qid = 63 VSM     AP= 0.04824197120708748\n",
      "query: \n",
      " where canfind pressure data on surfaces of swept cylinders . \n",
      "qid = 68 VSM     AP= 0.04267455729883476\n",
      "query: \n",
      " what possible techniques are available for computing the injection distribution corresponding to an isothermal transpiration cooled hemisphere . \n",
      "qid = 71 VSM     AP= 0.047386699639310526\n",
      "query: \n",
      " experimental results on hypersonic viscous interaction . \n",
      "qid = 85 VSM     AP= 0.02270078429438169\n",
      "query: \n",
      " what parameters can seriously influence natural transition from laminar to turbulent flow on a model in a wind tunnel . \n",
      "qid = 87 VSM     AP= 0.01343759262771059\n",
      "query: \n",
      " what effect has the boundary layer in modifying the basic inviscid flow behind the shock,  neglecting effects of leading edge and corner . \n",
      "qid = 98 VSM     AP= 0.036214117686284006\n",
      "query: \n",
      " will forward or apex located controls be effective at low subsonic speeds and how do they compare with conventional trailing-edge flaps . \n",
      "qid = 103 VSM     AP= 0.009188861985472155\n",
      "query: \n",
      " is the information on the buckling of sandwich sphere available . \n",
      "qid = 104 VSM     AP= 0.044216032355918596\n",
      "query: \n",
      " can the load deformation characteristics of a beam be obtained with the material being inelastic and a non uniform temperature being present . \n",
      "qid = 115 VSM     AP= 0.023971305068942652\n",
      "query: \n",
      " is the problem of similarity for representative investigations of aeroelastic effects in heated flow as intractable as previous investigations imply . \n",
      "qid = 117 VSM     AP= 0.025158227848101268\n",
      "query: \n",
      " is there any information on how the addition of a /boat-tail/ affects the normal force on the body of various angles of incidence . \n",
      "qid = 124 VSM     AP= 0.004174742672817127\n",
      "query: \n",
      " in what areas, other than low density wind tunnel flows, is viscous compressible flow in slender channels a problem . \n",
      "qid = 128 VSM     AP= 0.016237901171676006\n",
      "query: \n",
      " has anyone programmed a pump design method for a high-speed digital computer . \n",
      "qid = 138 VSM     AP= 0.045408163265306126\n",
      "query: \n",
      " has the effect of initial stresses,  on the frequencies of vibration of circular cylindrical shells,  been investigated . \n",
      "qid = 139 VSM     AP= 0.006568319720705303\n",
      "query: \n",
      " has the effect of the change of initial pressure due to deformation,  on the frequencies of vibration of circular cylindrical shells been investigated . \n",
      "qid = 151 VSM     AP= 0.030825888995208044\n",
      "query: \n",
      " what is the best theoretical method for calculating pressure on the surface of a wing alone . \n",
      "qid = 166 VSM     AP= 0.029900332330077176\n",
      "query: \n",
      " are there experimental results on the stability of a compressible boundary layer induced by a moving wave . \n",
      "qid = 175 VSM     AP= 0.037097112880902915\n",
      "query: \n",
      " work on flow in channels at low reynolds numbers . \n",
      "qid = 215 VSM     AP= 0.04777777777777778\n",
      "query: \n",
      " is it possible to predict the shape of a shroud which will allow simulation of the nose region flow field for a sphere in hypersonic flow . \n",
      "qid = 216 VSM     AP= 0.002207505518763797\n",
      "query: \n",
      " what investigations have been made of the wave system created by a static pressure distribution over a liquid surface . \n"
     ]
    },
    {
     "data": {
      "image/png": "[encoded data removed]",
      "text/plain": [
       "<Figure size 432x288 with 1 Axes>"
      ]
     },
     "metadata": {
      "needs_background": "light"
     },
     "output_type": "display_data"
    }
   ],
   "source": [
    "import numpy as np\n",
    "from sklearn.feature_extraction.text import CountVectorizer\n",
    "import matplotlib.pyplot as plt\n",
    "import simpleparser as parser\n",
    "from sklearn.feature_extraction.text import CountVectorizer\n",
    "from sklearn.metrics import precision_recall_curve\n",
    "from sklearn.metrics import average_precision_score\n",
    "\n",
    "import collectionloaders\n",
    "import RetrievalModelsMatrix as models\n",
    "\n",
    "verbose = True\n",
    "bigrams = True\n",
    "is_sw = 0.05\n",
    "\n",
    "### 1. Load the corpus\n",
    "cranfield = collectionloaders.CranfieldTestBed()\n",
    "\n",
    "### 2. Parse the corpus\n",
    "# Tokenize, stem and remove stop words\n",
    "if not bigrams:\n",
    "    vectorizer = CountVectorizer()\n",
    "else:\n",
    "    vectorizer = CountVectorizer(ngram_range=(1, 2), token_pattern=r'\\b\\w+\\b', \n",
    "                                    min_df=1)\n",
    "\n",
    "corpus = parser.stemCorpus(cranfield.corpus_cranfield['abstract'])\n",
    "\n",
    "### 3. Create the model\n",
    "# Compute the term frequencies matrix and the model statistics\n",
    "tf_cranfield = vectorizer.fit_transform(corpus).toarray()\n",
    "models = models.RetrievalModelsMatrix(tf_cranfield, vectorizer)\n",
    "\n",
    "### 4. Run the queries over the corpus\n",
    "i = 1\n",
    "map_vsm = 0\n",
    "precision_vsm = []\n",
    "\n",
    "for query in cranfield.queries:\n",
    "    # Parse the query and compute the document scores\n",
    "    scores = models.score_vsm(parser.stemSentence(query))\n",
    "\n",
    "    # Do the evaluation\n",
    "    [average_precision, precision, recall, thresholds] = cranfield.eval(scores, i)\n",
    "    \n",
    "    \n",
    "    # Some messages...\n",
    "    if is_sw > average_precision:\n",
    "        print('qid =',i, 'VSM     AP=',average_precision)\n",
    "        print('query: \\n', query)\n",
    "    else:\n",
    "        map_vsm = map_vsm + average_precision\n",
    "        precision_vsm.append(precision)\n",
    "        plt.plot(recall, precision, color='silver', alpha=0.1)\n",
    "    \n",
    "    i = i + 1\n",
    "\n",
    "map_vsm = map_vsm/cranfield.num_queries\n",
    "\n"
   ]
  },
  {
   "cell_type": "code",
   "execution_count": 1,
   "metadata": {},
   "outputs": [
    {
     "name": "stderr",
     "output_type": "stream",
     "text": [
      "[nltk_data] Error loading punkt: <urlopen error [Errno 11001]\n",
      "[nltk_data]     getaddrinfo failed>\n",
      "[nltk_data] Error loading stopwords: <urlopen error [Errno 11001]\n",
      "[nltk_data]     getaddrinfo failed>\n"
     ]
    },
    {
     "data": {
      "text/plain": [
       "<Figure size 640x480 with 1 Axes>"
      ]
     },
     "metadata": {},
     "output_type": "display_data"
    },
    {
     "name": "stdout",
     "output_type": "stream",
     "text": [
      "Number of documents:  1400\n",
      "Number of queries:  225\n",
      "\n",
      "MAP =  0.005117460317460318\n",
      "\n",
      "lamb =  0.0\n",
      "\n",
      "MAP =  0.3018411675020372\n",
      "\n",
      "lamb =  0.1\n",
      "\n",
      "MAP =  0.30691314244477985\n",
      "\n",
      "lamb =  0.2\n",
      "\n",
      "MAP =  0.30597482972209483\n",
      "\n",
      "lamb =  0.30000000000000004\n",
      "\n",
      "MAP =  0.3027520740129853\n",
      "\n",
      "lamb =  0.4\n",
      "\n",
      "MAP =  0.30070385933979754\n",
      "\n",
      "lamb =  0.5\n",
      "\n",
      "MAP =  0.2984152826208429\n",
      "\n",
      "lamb =  0.6000000000000001\n",
      "\n",
      "MAP =  0.2972578014519433\n",
      "\n",
      "lamb =  0.7000000000000001\n",
      "\n",
      "MAP =  0.29096347972841846\n",
      "\n",
      "lamb =  0.8\n",
      "\n",
      "MAP =  0.28505108781599287\n",
      "\n",
      "lamb =  0.9\n"
     ]
    },
    {
     "data": {
      "text/plain": [
       "<MAP_lambCalc.MAP_lambCalc at 0x2d55c4cf828>"
      ]
     },
     "execution_count": 1,
     "metadata": {},
     "output_type": "execute_result"
    }
   ],
   "source": [
    "import computation as c\n",
    "import MAP_lambCalc as m\n",
    "\n",
    "#aa = c.computation(False)\n",
    "\n",
    "#aa.prec_rec_plot()\n",
    "\n",
    "m.MAP_lambCalc(False)\n",
    "\n",
    "\n"
   ]
  },
  {
   "cell_type": "code",
   "execution_count": 9,
   "metadata": {},
   "outputs": [],
   "source": [
    "#cranfield.queries"
   ]
  },
  {
   "cell_type": "code",
   "execution_count": 3,
   "metadata": {
    "scrolled": true
   },
   "outputs": [
    {
     "ename": "NameError",
     "evalue": "name 'map_vsm' is not defined",
     "output_type": "error",
     "traceback": [
      "\u001b[1;31m---------------------------------------------------------------------------\u001b[0m",
      "\u001b[1;31mNameError\u001b[0m                                 Traceback (most recent call last)",
      "\u001b[1;32m<ipython-input-3-eaa82153e69d>\u001b[0m in \u001b[0;36m<module>\u001b[1;34m\u001b[0m\n\u001b[0;32m      1\u001b[0m \u001b[1;31m### Show results\u001b[0m\u001b[1;33m\u001b[0m\u001b[1;33m\u001b[0m\u001b[1;33m\u001b[0m\u001b[0m\n\u001b[1;32m----> 2\u001b[1;33m \u001b[0mprint\u001b[0m\u001b[1;33m(\u001b[0m\u001b[1;34m'MAP ='\u001b[0m\u001b[1;33m,\u001b[0m\u001b[0mmap_vsm\u001b[0m\u001b[1;33m)\u001b[0m\u001b[1;33m\u001b[0m\u001b[1;33m\u001b[0m\u001b[0m\n\u001b[0m\u001b[0;32m      3\u001b[0m \u001b[1;33m\u001b[0m\u001b[0m\n\u001b[0;32m      4\u001b[0m \u001b[0mmean_precision\u001b[0m \u001b[1;33m=\u001b[0m \u001b[0mnp\u001b[0m\u001b[1;33m.\u001b[0m\u001b[0mmean\u001b[0m\u001b[1;33m(\u001b[0m\u001b[0mprecision_vsm\u001b[0m\u001b[1;33m,\u001b[0m\u001b[0maxis\u001b[0m\u001b[1;33m=\u001b[0m\u001b[1;36m0\u001b[0m\u001b[1;33m)\u001b[0m\u001b[1;33m\u001b[0m\u001b[1;33m\u001b[0m\u001b[0m\n\u001b[0;32m      5\u001b[0m \u001b[0mstd_precision\u001b[0m \u001b[1;33m=\u001b[0m \u001b[0mnp\u001b[0m\u001b[1;33m.\u001b[0m\u001b[0mstd\u001b[0m\u001b[1;33m(\u001b[0m\u001b[0mprecision_vsm\u001b[0m\u001b[1;33m,\u001b[0m\u001b[0maxis\u001b[0m\u001b[1;33m=\u001b[0m\u001b[1;36m0\u001b[0m\u001b[1;33m)\u001b[0m\u001b[1;33m\u001b[0m\u001b[1;33m\u001b[0m\u001b[0m\n",
      "\u001b[1;31mNameError\u001b[0m: name 'map_vsm' is not defined"
     ]
    }
   ],
   "source": [
    "### Show results\n",
    "print('MAP =',map_vsm)\n",
    "\n",
    "mean_precision = np.mean(precision_vsm,axis=0)\n",
    "std_precision = np.std(precision_vsm,axis=0)\n",
    "\n",
    "plt.plot(recall, mean_precision, color='b', alpha=1)\n",
    "plt.gca().set_aspect('equal', adjustable='box')\n",
    "plt.fill_between(recall, \n",
    "                 mean_precision - std_precision, \n",
    "                 mean_precision + std_precision, facecolor='b', alpha=0.1)\n",
    "\n",
    "plt.xlabel('Recall')\n",
    "plt.ylabel('Precision')\n",
    "plt.ylim([0.0, 1.0])\n",
    "plt.xlim([0.0, 1.0])\n",
    "plt.title('Precision-Recall (MAP={0:0.2f})'.format(map_vsm))\n",
    "plt.savefig('results/prec-recall.png', dpi=100)\n"
   ]
  },
  {
   "cell_type": "code",
   "execution_count": null,
   "metadata": {},
   "outputs": [],
   "source": []
  },
  {
   "cell_type": "markdown",
   "metadata": {},
   "source": [
    "### Results and discussion\n",
    "\n",
    "\n",
    "The following table summarizes the MAP and P10 results:\n",
    "\n",
    "| Retrieval Model | P10 | MAP   |\n",
    "|-----------------|-----|-------|\n",
    "| VSM             | ?   | {{map_vsm}} |\n",
    "| LMD             | ?   | ? |\n",
    "| LMJM             | ?   | ? |\n",
    "| BM25             | ?   | ? |\n",
    "\n",
    "![](results/prec-recall.png)"
   ]
  }
 ],
 "metadata": {
  "kernelspec": {
   "display_name": "Python 3",
   "language": "python",
   "name": "python3"
  },
  "language_info": {
   "codemirror_mode": {
    "name": "ipython",
    "version": 3
   },
   "file_extension": ".py",
   "mimetype": "text/x-python",
   "name": "python",
   "nbconvert_exporter": "python",
   "pygments_lexer": "ipython3",
   "version": "3.7.3"
  }
 },
 "nbformat": 4,
 "nbformat_minor": 2
}
