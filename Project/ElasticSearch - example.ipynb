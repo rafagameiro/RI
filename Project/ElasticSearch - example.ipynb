{
 "cells": [
  {
   "cell_type": "markdown",
   "metadata": {},
   "source": [
    "# Simple ElasticSearch API\n",
    "\n",
    "In this project the ElasticSearch index has been created previously. \n",
    "\n",
    "ElasticSearch index can be composed of multiple fields, each indexing different parts of the documents. Each field uses a specific analyser and a similarity (retrieval model).\n",
    "\n",
    "In the current index, the existing fields are the body and the named entities.\n",
    "\n",
    "In this project you will use a simplified API of the original ElasticSearch Python API:\n",
    "\n",
    "https://elasticsearch-py.readthedocs.io/en/master/api.html\n",
    "\n",
    "\n",
    "## Query the ElasticSearch API\n",
    "\n",
    "To search ElasticSearch Index you can use the simple API provided and get the results in JSON format or in Pandas format."
   ]
  },
  {
   "cell_type": "code",
   "execution_count": 1,
   "metadata": {},
   "outputs": [],
   "source": [
    "import ElasticSearchSimpleAPI as es\n",
    "import numpy as np\n",
    "\n",
    "elastic = es.ESSimpleAPI()"
   ]
  },
  {
   "cell_type": "code",
   "execution_count": 6,
   "metadata": {},
   "outputs": [
    {
     "data": {
      "text/plain": [
       "{'took': 13,\n",
       " 'timed_out': False,\n",
       " '_shards': {'total': 1, 'successful': 1, 'skipped': 0, 'failed': 0},\n",
       " 'hits': {'total': {'value': 10000, 'relation': 'gte'},\n",
       "  'max_score': 7.9882913,\n",
       "  'hits': [{'_index': 'msmarco',\n",
       "    '_type': '_doc',\n",
       "    '_id': 'MARCO_849267',\n",
       "    '_score': 7.9882913,\n",
       "    '_source': {'body': \"Salary for Physician Assistants. Also known as: Anesthesiologist Assistant, Certified Physician's Assistant, Family Practice Physician Assistant, Orthopaedic Physician Assistant, Orthopedic Physician Assistant, Pediatric Physician Assistant, Radiology Practitioner Assistant, Surgical Physician Assistant.\"}}]}}"
      ]
     },
     "execution_count": 6,
     "metadata": {},
     "output_type": "execute_result"
    }
   ],
   "source": [
    "result_json = elastic.search_json_results(query=\"What is a physician's assistant?\")\n",
    "result_json"
   ]
  },
  {
   "cell_type": "code",
   "execution_count": 45,
   "metadata": {
    "scrolled": true
   },
   "outputs": [
    {
     "data": {
      "text/html": [
       "<div>\n",
       "<style scoped>\n",
       "    .dataframe tbody tr th:only-of-type {\n",
       "        vertical-align: middle;\n",
       "    }\n",
       "\n",
       "    .dataframe tbody tr th {\n",
       "        vertical-align: top;\n",
       "    }\n",
       "\n",
       "    .dataframe thead th {\n",
       "        text-align: right;\n",
       "    }\n",
       "</style>\n",
       "<table border=\"1\" class=\"dataframe\">\n",
       "  <thead>\n",
       "    <tr style=\"text-align: right;\">\n",
       "      <th></th>\n",
       "      <th>_index</th>\n",
       "      <th>_type</th>\n",
       "      <th>_id</th>\n",
       "      <th>_score</th>\n",
       "      <th>_source.body</th>\n",
       "    </tr>\n",
       "  </thead>\n",
       "  <tbody>\n",
       "    <tr>\n",
       "      <td>0</td>\n",
       "      <td>msmarco</td>\n",
       "      <td>_doc</td>\n",
       "      <td>MARCO_6652628</td>\n",
       "      <td>7.655465</td>\n",
       "      <td>The minimum educational requirement to become ...</td>\n",
       "    </tr>\n",
       "    <tr>\n",
       "      <td>1</td>\n",
       "      <td>msmarco</td>\n",
       "      <td>_doc</td>\n",
       "      <td>MARCO_5244354</td>\n",
       "      <td>7.093407</td>\n",
       "      <td>The minimum educational requirement to become ...</td>\n",
       "    </tr>\n",
       "    <tr>\n",
       "      <td>2</td>\n",
       "      <td>msmarco</td>\n",
       "      <td>_doc</td>\n",
       "      <td>MARCO_7789519</td>\n",
       "      <td>6.982583</td>\n",
       "      <td>Video: Physician Assistant: Educational Requir...</td>\n",
       "    </tr>\n",
       "    <tr>\n",
       "      <td>3</td>\n",
       "      <td>msmarco</td>\n",
       "      <td>_doc</td>\n",
       "      <td>MARCO_22367</td>\n",
       "      <td>6.541923</td>\n",
       "      <td>Educational Requirements. Electricians usually...</td>\n",
       "    </tr>\n",
       "    <tr>\n",
       "      <td>4</td>\n",
       "      <td>msmarco</td>\n",
       "      <td>_doc</td>\n",
       "      <td>MARCO_22376</td>\n",
       "      <td>6.528393</td>\n",
       "      <td>Electricians require some formal education. Le...</td>\n",
       "    </tr>\n",
       "    <tr>\n",
       "      <td>...</td>\n",
       "      <td>...</td>\n",
       "      <td>...</td>\n",
       "      <td>...</td>\n",
       "      <td>...</td>\n",
       "      <td>...</td>\n",
       "    </tr>\n",
       "    <tr>\n",
       "      <td>95</td>\n",
       "      <td>msmarco</td>\n",
       "      <td>_doc</td>\n",
       "      <td>MARCO_5918188</td>\n",
       "      <td>5.340497</td>\n",
       "      <td>Microbiologist: Educational Requirements for a...</td>\n",
       "    </tr>\n",
       "    <tr>\n",
       "      <td>96</td>\n",
       "      <td>msmarco</td>\n",
       "      <td>_doc</td>\n",
       "      <td>MARCO_5459300</td>\n",
       "      <td>5.337555</td>\n",
       "      <td>Band Director: Educational and Training Requir...</td>\n",
       "    </tr>\n",
       "    <tr>\n",
       "      <td>97</td>\n",
       "      <td>msmarco</td>\n",
       "      <td>_doc</td>\n",
       "      <td>MARCO_917799</td>\n",
       "      <td>5.331678</td>\n",
       "      <td>Training Requirements. Educational requirement...</td>\n",
       "    </tr>\n",
       "    <tr>\n",
       "      <td>98</td>\n",
       "      <td>msmarco</td>\n",
       "      <td>_doc</td>\n",
       "      <td>MARCO_8069863</td>\n",
       "      <td>5.331678</td>\n",
       "      <td>Specific educational requirements to become a ...</td>\n",
       "    </tr>\n",
       "    <tr>\n",
       "      <td>99</td>\n",
       "      <td>msmarco</td>\n",
       "      <td>_doc</td>\n",
       "      <td>MARCO_6249843</td>\n",
       "      <td>5.330618</td>\n",
       "      <td>The first educational step to becoming a biolo...</td>\n",
       "    </tr>\n",
       "  </tbody>\n",
       "</table>\n",
       "<p>100 rows × 5 columns</p>\n",
       "</div>"
      ],
      "text/plain": [
       "     _index _type            _id    _score  \\\n",
       "0   msmarco  _doc  MARCO_6652628  7.655465   \n",
       "1   msmarco  _doc  MARCO_5244354  7.093407   \n",
       "2   msmarco  _doc  MARCO_7789519  6.982583   \n",
       "3   msmarco  _doc    MARCO_22367  6.541923   \n",
       "4   msmarco  _doc    MARCO_22376  6.528393   \n",
       "..      ...   ...            ...       ...   \n",
       "95  msmarco  _doc  MARCO_5918188  5.340497   \n",
       "96  msmarco  _doc  MARCO_5459300  5.337555   \n",
       "97  msmarco  _doc   MARCO_917799  5.331678   \n",
       "98  msmarco  _doc  MARCO_8069863  5.331678   \n",
       "99  msmarco  _doc  MARCO_6249843  5.330618   \n",
       "\n",
       "                                         _source.body  \n",
       "0   The minimum educational requirement to become ...  \n",
       "1   The minimum educational requirement to become ...  \n",
       "2   Video: Physician Assistant: Educational Requir...  \n",
       "3   Educational Requirements. Electricians usually...  \n",
       "4   Electricians require some formal education. Le...  \n",
       "..                                                ...  \n",
       "95  Microbiologist: Educational Requirements for a...  \n",
       "96  Band Director: Educational and Training Requir...  \n",
       "97  Training Requirements. Educational requirement...  \n",
       "98  Specific educational requirements to become a ...  \n",
       "99  The first educational step to becoming a biolo...  \n",
       "\n",
       "[100 rows x 5 columns]"
      ]
     },
     "execution_count": 45,
     "metadata": {},
     "output_type": "execute_result"
    }
   ],
   "source": [
    "result = elastic.search_body(query=\"What are the educational requirements required to become one?\", numDocs = 100)\n",
    "result"
   ]
  },
  {
   "cell_type": "markdown",
   "metadata": {},
   "source": [
    "## Search \n",
    "\n",
    "https://www.elastic.co/guide/en/elasticsearch/reference/current/getting-started-search.html"
   ]
  },
  {
   "cell_type": "code",
   "execution_count": 46,
   "metadata": {},
   "outputs": [
    {
     "name": "stdout",
     "output_type": "stream",
     "text": [
      "P10= 0.0   Recall= 0.0   NDCG= 0\n"
     ]
    }
   ],
   "source": [
    "import TRECCASTeval as trec\n",
    "\n",
    "test_bed = trec.ConvSearchEvaluation()\n",
    "\n",
    "topic_turn_id = '1_2'\n",
    "#NaN quando recebermos 0 resultados de resposta query: \"what about in the US?\"\n",
    "#ou quando nao temos docs relevantes- classe TRECCASTeval temos de ver o numero de docs relevantes por query- \n",
    "#ha queries que nao tem nenhum, mas o calculo do recall divide pelo numero total de docs relevantes\n",
    "#se uma query nao tem docs relevantes nem deviamos contar com ela- nao faz sentido avalia-la\n",
    "\n",
    "[p10, recall, ndcg] = test_bed.eval(result[['_id','_score']], topic_turn_id)\n",
    "print('P10=', p10, '  Recall=', recall, '  NDCG=',ndcg)"
   ]
  },
  {
   "cell_type": "markdown",
   "metadata": {},
   "source": [
    "## Query String Syntax\n",
    "\n",
    "Text search supports multiple operators:\n",
    "\n",
    "https://www.elastic.co/guide/en/elasticsearch/reference/current/query-dsl-simple-query-string-query.html"
   ]
  },
  {
   "cell_type": "code",
   "execution_count": 25,
   "metadata": {},
   "outputs": [
    {
     "name": "stdout",
     "output_type": "stream",
     "text": [
      "    _index _type            _id    _score  \\\n",
      "0  msmarco  _doc   MARCO_849267  7.988291   \n",
      "1  msmarco  _doc  MARCO_2331424  7.979860   \n",
      "2  msmarco  _doc  MARCO_5780723  7.856357   \n",
      "3  msmarco  _doc   MARCO_920443  7.837830   \n",
      "4  msmarco  _doc  MARCO_4903530  7.829967   \n",
      "5  msmarco  _doc   MARCO_955948  7.767573   \n",
      "6  msmarco  _doc  MARCO_4016757  7.679798   \n",
      "7  msmarco  _doc  MARCO_5692406  7.574573   \n",
      "8  msmarco  _doc  MARCO_2331422  7.536899   \n",
      "9  msmarco  _doc  MARCO_6193189  7.521804   \n",
      "\n",
      "                                        _source.body  \n",
      "0  Salary for Physician Assistants. Also known as...  \n",
      "1  $54,000. Average Physician Assistant Physician...  \n",
      "2  how to become a physician assistant, how long ...  \n",
      "3  Salary for Anesthesiologist Assistants. Also k...  \n",
      "4  Physician Assistant Salaries. Median annual ph...  \n",
      "5  Physician assistants work under the supervisio...  \n",
      "6  Physicians Assistant Salaries Throughout North...  \n",
      "7  Professional Abbreviations. MD -- Medical Doct...  \n",
      "8  As the number of physician assistant professio...  \n",
      "9  Physician Assistant Salary By State. Google Tr...  \n"
     ]
    }
   ],
   "source": [
    "query = \"What is a physician's assistant?\"\n",
    "\n",
    "query_qsl = {\"query\": {\"match\": {\"body\": query}}}\n",
    "\n",
    "result = elastic.search_QSL(query_qsl,10)\n",
    "\n",
    "print(result)"
   ]
  },
  {
   "cell_type": "markdown",
   "metadata": {},
   "source": [
    "## Mappings and Fields\n",
    "\n",
    "At indexing time, each field is indexed with a predefined retrieval model (similarity) and text parser (analyser). This becomes the default _similarity_ and _analyser_ for that field. This correspondence is called _mapping_ in ElasticSearch.\n",
    "\n",
    "See the configuration details here:\n",
    "\n",
    "https://www.elastic.co/guide/en/elasticsearch/reference/current/index-modules-similarity.html\n",
    "\n",
    "https://www.elastic.co/guide/en/elasticsearch/reference/current/indices-put-mapping.html\n",
    "\n",
    "You can check the index configuration as follows:"
   ]
  },
  {
   "cell_type": "code",
   "execution_count": 26,
   "metadata": {},
   "outputs": [
    {
     "name": "stdout",
     "output_type": "stream",
     "text": [
      "{'msmarco': {'mappings': {'properties': {'body': {'type': 'text', 'similarity': 'lmd', 'analyzer': 'rebuilt_english'}}}}}\n"
     ]
    }
   ],
   "source": [
    "msmarco_mappings = elastic.client.indices.get_mapping(index = 'msmarco')\n",
    "print(msmarco_mappings)\n",
    "#todas estas funcoes podem ser definidas no schema do elastic search"
   ]
  }
 ],
 "metadata": {
  "kernelspec": {
   "display_name": "Python 3",
   "language": "python",
   "name": "python3"
  },
  "language_info": {
   "codemirror_mode": {
    "name": "ipython",
    "version": 3
   },
   "file_extension": ".py",
   "mimetype": "text/x-python",
   "name": "python",
   "nbconvert_exporter": "python",
   "pygments_lexer": "ipython3",
   "version": "3.7.4"
  }
 },
 "nbformat": 4,
 "nbformat_minor": 2
}
