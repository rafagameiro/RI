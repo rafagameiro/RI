{
 "cells": [
  {
   "cell_type": "markdown",
   "metadata": {},
   "source": [
    "# BERT Embeddings as a service\n",
    "\n",
    "The BERT as a service is available for you to use in this project.\n",
    "The client exposes all the methods you need."
   ]
  },
  {
   "cell_type": "code",
   "execution_count": 1,
   "metadata": {},
   "outputs": [],
   "source": [
    "import ElasticSearchSimpleAPI as es\n",
    "import numpy as np\n",
    "\n",
    "from bert_serving.client import BertClient\n",
    "\n",
    "from sklearn.metrics.pairwise import cosine_similarity\n",
    "from pandas.io.json import json_normalize\n",
    "import pandas as pd\n",
    "\n",
    "import numpy as np\n",
    "import TRECCASTeval as trec\n",
    "\n",
    "\n",
    "# Create test bed object\n",
    "test_bed = trec.ConvSearchEvaluation()\n",
    "\n",
    "# Elastic Search API\n",
    "elastic = es.ESSimpleAPI()\n",
    "\n",
    "# BERT as a service\n",
    "bc = BertClient()\n",
    "bc.length_limit = 512\n"
   ]
  },
  {
   "cell_type": "markdown",
   "metadata": {},
   "source": [
    "## Top ranked documents\n",
    "Computing the embeddings for all msmarco passages yields better results but takes too much time. To avoid this computational cost, you must use a retrieval model to sample the top ranked documents.\n",
    "\n",
    "This will then be your working sample."
   ]
  },
  {
   "cell_type": "code",
   "execution_count": 2,
   "metadata": {},
   "outputs": [
    {
     "name": "stdout",
     "output_type": "stream",
     "text": [
      "             _id    _score\n",
      "0   MARCO_849267  7.988291\n",
      "1  MARCO_2331424  7.979860\n",
      "2  MARCO_5780723  7.856357\n",
      "3   MARCO_920443  7.837830\n",
      "4  MARCO_4903530  7.829967\n",
      "5   MARCO_955948  7.767573\n",
      "6  MARCO_4016757  7.679798\n",
      "7  MARCO_5692406  7.574573\n",
      "8  MARCO_2331422  7.536899\n",
      "9  MARCO_6193189  7.521804\n"
     ]
    },
    {
     "ename": "TypeError",
     "evalue": "Index does not support mutable operations",
     "output_type": "error",
     "traceback": [
      "\u001b[0;31m---------------------------------------------------------------------------\u001b[0m",
      "\u001b[0;31mTypeError\u001b[0m                                 Traceback (most recent call last)",
      "\u001b[0;32m<ipython-input-2-a4771bc99ba8>\u001b[0m in \u001b[0;36m<module>\u001b[0;34m\u001b[0m\n\u001b[1;32m      4\u001b[0m \u001b[0mdf\u001b[0m \u001b[0;34m=\u001b[0m \u001b[0melastic\u001b[0m\u001b[0;34m.\u001b[0m\u001b[0msearch_body\u001b[0m\u001b[0;34m(\u001b[0m\u001b[0mtopic_turn_query\u001b[0m\u001b[0;34m,\u001b[0m \u001b[0;36m10\u001b[0m\u001b[0;34m)\u001b[0m\u001b[0;34m\u001b[0m\u001b[0;34m\u001b[0m\u001b[0m\n\u001b[1;32m      5\u001b[0m \u001b[0;34m\u001b[0m\u001b[0m\n\u001b[0;32m----> 6\u001b[0;31m \u001b[0;34m[\u001b[0m\u001b[0mp10\u001b[0m\u001b[0;34m,\u001b[0m \u001b[0mrecall\u001b[0m\u001b[0;34m,\u001b[0m \u001b[0mndcg\u001b[0m\u001b[0;34m]\u001b[0m \u001b[0;34m=\u001b[0m \u001b[0mtest_bed\u001b[0m\u001b[0;34m.\u001b[0m\u001b[0meval\u001b[0m\u001b[0;34m(\u001b[0m\u001b[0mdf\u001b[0m\u001b[0;34m[\u001b[0m\u001b[0;34m[\u001b[0m\u001b[0;34m'_id'\u001b[0m\u001b[0;34m,\u001b[0m\u001b[0;34m'_score'\u001b[0m\u001b[0;34m]\u001b[0m\u001b[0;34m]\u001b[0m\u001b[0;34m,\u001b[0m \u001b[0mtopic_turn_id\u001b[0m\u001b[0;34m)\u001b[0m\u001b[0;34m\u001b[0m\u001b[0;34m\u001b[0m\u001b[0m\n\u001b[0m\u001b[1;32m      7\u001b[0m \u001b[0mprint\u001b[0m\u001b[0;34m(\u001b[0m\u001b[0;34m'P10='\u001b[0m\u001b[0;34m,\u001b[0m \u001b[0mp10\u001b[0m\u001b[0;34m,\u001b[0m \u001b[0;34m'  Recall='\u001b[0m\u001b[0;34m,\u001b[0m \u001b[0mrecall\u001b[0m\u001b[0;34m,\u001b[0m \u001b[0;34m'  NDCG='\u001b[0m\u001b[0;34m,\u001b[0m\u001b[0mndcg\u001b[0m\u001b[0;34m)\u001b[0m\u001b[0;34m\u001b[0m\u001b[0;34m\u001b[0m\u001b[0m\n",
      "\u001b[0;32m~/work/TRECCASTeval.py\u001b[0m in \u001b[0;36meval\u001b[0;34m(self, result, topic_turn_id)\u001b[0m\n\u001b[1;32m     57\u001b[0m \u001b[0;34m\u001b[0m\u001b[0m\n\u001b[1;32m     58\u001b[0m             \u001b[0mkeys\u001b[0m \u001b[0;34m=\u001b[0m \u001b[0mquery_rel_docs\u001b[0m\u001b[0;34m.\u001b[0m\u001b[0mkeys\u001b[0m\u001b[0;34m(\u001b[0m\u001b[0;34m)\u001b[0m\u001b[0;34m\u001b[0m\u001b[0;34m\u001b[0m\u001b[0m\n\u001b[0;32m---> 59\u001b[0;31m             \u001b[0mkeys\u001b[0m\u001b[0;34m[\u001b[0m\u001b[0mkeys\u001b[0m \u001b[0;34m<=\u001b[0m \u001b[0;36m10\u001b[0m\u001b[0;34m]\u001b[0m \u001b[0;34m=\u001b[0m \u001b[0;36m0\u001b[0m\u001b[0;34m\u001b[0m\u001b[0;34m\u001b[0m\u001b[0m\n\u001b[0m\u001b[1;32m     60\u001b[0m             \u001b[0;31m# Average precision\u001b[0m\u001b[0;34m\u001b[0m\u001b[0;34m\u001b[0m\u001b[0;34m\u001b[0m\u001b[0m\n\u001b[1;32m     61\u001b[0m             \u001b[0mprint\u001b[0m\u001b[0;34m(\u001b[0m\u001b[0mresult\u001b[0m\u001b[0;34m[\u001b[0m\u001b[0;34m'_id'\u001b[0m\u001b[0;34m]\u001b[0m\u001b[0;34m.\u001b[0m\u001b[0mcount\u001b[0m\u001b[0;34m(\u001b[0m\u001b[0;34m)\u001b[0m\u001b[0;34m)\u001b[0m\u001b[0;34m\u001b[0m\u001b[0;34m\u001b[0m\u001b[0m\n",
      "\u001b[0;32m/share/apps/anaconda3/2019.10/lib/python3.7/site-packages/pandas/core/indexes/base.py\u001b[0m in \u001b[0;36m__setitem__\u001b[0;34m(self, key, value)\u001b[0m\n\u001b[1;32m   4258\u001b[0m \u001b[0;34m\u001b[0m\u001b[0m\n\u001b[1;32m   4259\u001b[0m     \u001b[0;32mdef\u001b[0m \u001b[0m__setitem__\u001b[0m\u001b[0;34m(\u001b[0m\u001b[0mself\u001b[0m\u001b[0;34m,\u001b[0m \u001b[0mkey\u001b[0m\u001b[0;34m,\u001b[0m \u001b[0mvalue\u001b[0m\u001b[0;34m)\u001b[0m\u001b[0;34m:\u001b[0m\u001b[0;34m\u001b[0m\u001b[0;34m\u001b[0m\u001b[0m\n\u001b[0;32m-> 4260\u001b[0;31m         \u001b[0;32mraise\u001b[0m \u001b[0mTypeError\u001b[0m\u001b[0;34m(\u001b[0m\u001b[0;34m\"Index does not support mutable operations\"\u001b[0m\u001b[0;34m)\u001b[0m\u001b[0;34m\u001b[0m\u001b[0;34m\u001b[0m\u001b[0m\n\u001b[0m\u001b[1;32m   4261\u001b[0m \u001b[0;34m\u001b[0m\u001b[0m\n\u001b[1;32m   4262\u001b[0m     \u001b[0;32mdef\u001b[0m \u001b[0m__getitem__\u001b[0m\u001b[0;34m(\u001b[0m\u001b[0mself\u001b[0m\u001b[0;34m,\u001b[0m \u001b[0mkey\u001b[0m\u001b[0;34m)\u001b[0m\u001b[0;34m:\u001b[0m\u001b[0;34m\u001b[0m\u001b[0;34m\u001b[0m\u001b[0m\n",
      "\u001b[0;31mTypeError\u001b[0m: Index does not support mutable operations"
     ]
    }
   ],
   "source": [
    "# Retrieval example\n",
    "topic_turn_id = '1_1'\n",
    "topic_turn_query=\"What is a physician's assistant?\"\n",
    "df = elastic.search_body(topic_turn_query, 10)\n",
    "\n",
    "[p10, recall, ndcg] = test_bed.eval(df[['_id','_score']], topic_turn_id)\n",
    "print('P10=', p10, '  Recall=', recall, '  NDCG=',ndcg)"
   ]
  },
  {
   "cell_type": "markdown",
   "metadata": {},
   "source": [
    "## Ranking in the embeddings space\n",
    "Calculating the embedding of a sentence is computational slow and should be used carefully (10 documents per query will take some time). The similarities computation is linear and is not too complex.\n",
    "\n",
    "A suggestion is to compute the embedding once and store the embedding of each document on a local file. You can then use the sci-kit learn `knn` implementation to identify the nearest neighbour to a given embedding vector."
   ]
  },
  {
   "cell_type": "code",
   "execution_count": 6,
   "metadata": {},
   "outputs": [
    {
     "name": "stdout",
     "output_type": "stream",
     "text": [
      "    topic_turn_id  dummy          docid  rel\n",
      "244           2_1      0  MARCO_4369683    1\n",
      "P10= 0.1   Recall= 1.0   NDCG= 0\n"
     ]
    }
   ],
   "source": [
    "# BERT reranking example\n",
    "texts = [topic_turn_query] + df[\"_source.body\"].tolist() #query e resultados do elastic search numa matriz\n",
    "vects = bc.encode(texts, is_tokenized=False) #gera uma matriz em que cada linha tem nums- representa o vetor de cada elem\n",
    "#o primeiro vetor e o da query, os outros sao os dos docs\n",
    "sims = cosine_similarity(vects[0:1, :], vects[1:, :]) #semelhanças de cos entre o vetor de embedding da query e dos docs\n",
    "df[\"bert_score\"] = sims[0]\n",
    "\n",
    "df = df.sort_values(by=\"bert_score\", ascending=False)\n",
    "\n",
    "#podemos guardar os resultados de vecs(?) num ficheiro na nossa home, para nao ter de estar sempre a fazer queries ao bert- pode ficar lento\n",
    "#acho que sao os de sentence embedding\n",
    "\n",
    "[p10, recall, ndcg] = test_bed.eval(df[['_id','bert_score']], topic_turn_id)\n",
    "print('P10=', p10, '  Recall=', recall, '  NDCG=',ndcg)"
   ]
  },
  {
   "cell_type": "code",
   "execution_count": 7,
   "metadata": {},
   "outputs": [
    {
     "data": {
      "text/html": [
       "<div>\n",
       "<style scoped>\n",
       "    .dataframe tbody tr th:only-of-type {\n",
       "        vertical-align: middle;\n",
       "    }\n",
       "\n",
       "    .dataframe tbody tr th {\n",
       "        vertical-align: top;\n",
       "    }\n",
       "\n",
       "    .dataframe thead th {\n",
       "        text-align: right;\n",
       "    }\n",
       "</style>\n",
       "<table border=\"1\" class=\"dataframe\">\n",
       "  <thead>\n",
       "    <tr style=\"text-align: right;\">\n",
       "      <th></th>\n",
       "      <th>_index</th>\n",
       "      <th>_type</th>\n",
       "      <th>_id</th>\n",
       "      <th>_score</th>\n",
       "      <th>_source.body</th>\n",
       "      <th>bert_score</th>\n",
       "    </tr>\n",
       "  </thead>\n",
       "  <tbody>\n",
       "    <tr>\n",
       "      <td>5</td>\n",
       "      <td>msmarco</td>\n",
       "      <td>_doc</td>\n",
       "      <td>MARCO_2142719</td>\n",
       "      <td>9.074766</td>\n",
       "      <td>INTRODUCTION. The Myotonic goat is a distinct ...</td>\n",
       "      <td>0.893400</td>\n",
       "    </tr>\n",
       "    <tr>\n",
       "      <td>0</td>\n",
       "      <td>msmarco</td>\n",
       "      <td>_doc</td>\n",
       "      <td>MARCO_5023599</td>\n",
       "      <td>9.434418</td>\n",
       "      <td>This is a list of goat breeds. There are many ...</td>\n",
       "      <td>0.892809</td>\n",
       "    </tr>\n",
       "    <tr>\n",
       "      <td>7</td>\n",
       "      <td>msmarco</td>\n",
       "      <td>_doc</td>\n",
       "      <td>MARCO_1632359</td>\n",
       "      <td>8.833383</td>\n",
       "      <td>Meat goats are often called Spanish goats in h...</td>\n",
       "      <td>0.890255</td>\n",
       "    </tr>\n",
       "    <tr>\n",
       "      <td>1</td>\n",
       "      <td>msmarco</td>\n",
       "      <td>_doc</td>\n",
       "      <td>MARCO_4369683</td>\n",
       "      <td>9.340648</td>\n",
       "      <td>Different breeds of goats are now endearing a ...</td>\n",
       "      <td>0.888519</td>\n",
       "    </tr>\n",
       "    <tr>\n",
       "      <td>2</td>\n",
       "      <td>msmarco</td>\n",
       "      <td>_doc</td>\n",
       "      <td>MARCO_1827213</td>\n",
       "      <td>9.315275</td>\n",
       "      <td>This is a list of goat breeds. There are many ...</td>\n",
       "      <td>0.887969</td>\n",
       "    </tr>\n",
       "    <tr>\n",
       "      <td>9</td>\n",
       "      <td>msmarco</td>\n",
       "      <td>_doc</td>\n",
       "      <td>MARCO_2142716</td>\n",
       "      <td>8.754038</td>\n",
       "      <td>Myotonic Goats. Myotonic Goats are the only br...</td>\n",
       "      <td>0.887701</td>\n",
       "    </tr>\n",
       "    <tr>\n",
       "      <td>6</td>\n",
       "      <td>msmarco</td>\n",
       "      <td>_doc</td>\n",
       "      <td>MARCO_12701</td>\n",
       "      <td>8.857945</td>\n",
       "      <td>There is question as to whether or not the Bru...</td>\n",
       "      <td>0.870248</td>\n",
       "    </tr>\n",
       "    <tr>\n",
       "      <td>4</td>\n",
       "      <td>msmarco</td>\n",
       "      <td>_doc</td>\n",
       "      <td>MARCO_1188048</td>\n",
       "      <td>9.212319</td>\n",
       "      <td>INTRODUCTION. The Myotonic goat is a distinct ...</td>\n",
       "      <td>0.839404</td>\n",
       "    </tr>\n",
       "    <tr>\n",
       "      <td>8</td>\n",
       "      <td>msmarco</td>\n",
       "      <td>_doc</td>\n",
       "      <td>MARCO_1188047</td>\n",
       "      <td>8.769095</td>\n",
       "      <td>The breed is a small breed ranging from 17-25â...</td>\n",
       "      <td>0.837410</td>\n",
       "    </tr>\n",
       "    <tr>\n",
       "      <td>3</td>\n",
       "      <td>msmarco</td>\n",
       "      <td>_doc</td>\n",
       "      <td>MARCO_1827207</td>\n",
       "      <td>9.245090</td>\n",
       "      <td>Jamunapari Goat. Jamunapari goat is a very bea...</td>\n",
       "      <td>0.836113</td>\n",
       "    </tr>\n",
       "  </tbody>\n",
       "</table>\n",
       "</div>"
      ],
      "text/plain": [
       "    _index _type            _id    _score  \\\n",
       "5  msmarco  _doc  MARCO_2142719  9.074766   \n",
       "0  msmarco  _doc  MARCO_5023599  9.434418   \n",
       "7  msmarco  _doc  MARCO_1632359  8.833383   \n",
       "1  msmarco  _doc  MARCO_4369683  9.340648   \n",
       "2  msmarco  _doc  MARCO_1827213  9.315275   \n",
       "9  msmarco  _doc  MARCO_2142716  8.754038   \n",
       "6  msmarco  _doc    MARCO_12701  8.857945   \n",
       "4  msmarco  _doc  MARCO_1188048  9.212319   \n",
       "8  msmarco  _doc  MARCO_1188047  8.769095   \n",
       "3  msmarco  _doc  MARCO_1827207  9.245090   \n",
       "\n",
       "                                        _source.body  bert_score  \n",
       "5  INTRODUCTION. The Myotonic goat is a distinct ...    0.893400  \n",
       "0  This is a list of goat breeds. There are many ...    0.892809  \n",
       "7  Meat goats are often called Spanish goats in h...    0.890255  \n",
       "1  Different breeds of goats are now endearing a ...    0.888519  \n",
       "2  This is a list of goat breeds. There are many ...    0.887969  \n",
       "9  Myotonic Goats. Myotonic Goats are the only br...    0.887701  \n",
       "6  There is question as to whether or not the Bru...    0.870248  \n",
       "4  INTRODUCTION. The Myotonic goat is a distinct ...    0.839404  \n",
       "8  The breed is a small breed ranging from 17-25â...    0.837410  \n",
       "3  Jamunapari Goat. Jamunapari goat is a very bea...    0.836113  "
      ]
     },
     "execution_count": 7,
     "metadata": {},
     "output_type": "execute_result"
    }
   ],
   "source": [
    "df"
   ]
  }
 ],
 "metadata": {
  "kernelspec": {
   "display_name": "Python 3",
   "language": "python",
   "name": "python3"
  },
  "language_info": {
   "codemirror_mode": {
    "name": "ipython",
    "version": 3
   },
   "file_extension": ".py",
   "mimetype": "text/x-python",
   "name": "python",
   "nbconvert_exporter": "python",
   "pygments_lexer": "ipython3",
   "version": "3.7.4"
  }
 },
 "nbformat": 4,
 "nbformat_minor": 2
}
